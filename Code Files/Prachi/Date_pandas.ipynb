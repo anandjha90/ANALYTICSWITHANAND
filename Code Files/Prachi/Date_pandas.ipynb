{
 "cells": [
  {
   "cell_type": "markdown",
   "id": "69cfab62-db20-42d0-b3e7-02525ed973ee",
   "metadata": {},
   "source": [
    "<h3>1. pd.to_datetime()</h3>\n",
    "This function is used to convert a column or series into datetime format. It is versatile and can handle various date formats.\n",
    "\n"
   ]
  },
  {
   "cell_type": "code",
   "execution_count": 7,
   "id": "6115987e-1259-4086-8f19-423691b369a2",
   "metadata": {},
   "outputs": [],
   "source": [
    "import pandas as pd\n",
    "from datetime import datetime, timedelta\n",
    "\n",
    "# Sample data\n",
    "data = {\n",
    "    'date_column': [\n",
    "        '2021-01-01', '2022-03-15', '2020-06-30', \n",
    "        '2019-11-25', '2021-09-01', '2023-02-18',\n",
    "        '2020-08-12', '2021-12-24'\n",
    "    ],\n",
    "    'time_column': [\n",
    "        '12:30:45', '15:45:00', '08:10:20',\n",
    "        '22:55:12', '06:12:45', '14:34:00',\n",
    "        '03:21:50', '19:58:10'\n",
    "    ]\n",
    "}\n",
    "\n"
   ]
  },
  {
   "cell_type": "code",
   "execution_count": 9,
   "id": "7cb8be62-c9ea-41a8-a8d2-975149e2bb8e",
   "metadata": {},
   "outputs": [],
   "source": [
    "# Create DataFrame\n",
    "df = pd.DataFrame(data)\n",
    "\n"
   ]
  },
  {
   "cell_type": "code",
   "execution_count": 11,
   "id": "398a3f16-60ff-497f-ac4c-25b8fca71e14",
   "metadata": {},
   "outputs": [
    {
     "name": "stdout",
     "output_type": "stream",
     "text": [
      "<class 'pandas.core.frame.DataFrame'>\n",
      "RangeIndex: 8 entries, 0 to 7\n",
      "Data columns (total 2 columns):\n",
      " #   Column       Non-Null Count  Dtype \n",
      "---  ------       --------------  ----- \n",
      " 0   date_column  8 non-null      object\n",
      " 1   time_column  8 non-null      object\n",
      "dtypes: object(2)\n",
      "memory usage: 260.0+ bytes\n"
     ]
    }
   ],
   "source": [
    "df.info()"
   ]
  },
  {
   "cell_type": "markdown",
   "id": "28eb8d94-d702-4dbe-aea3-189997c20bc6",
   "metadata": {},
   "source": [
    "errors='coerce': Invalid parsing will be set as NaT.\n",
    "\n",
    "utc=True: Convert the date to UTC timezone."
   ]
  },
  {
   "cell_type": "code",
   "execution_count": 13,
   "id": "ecd35fba-da2b-4808-9986-d63b9dcda2b1",
   "metadata": {},
   "outputs": [],
   "source": [
    "# Convert the 'date_column' to datetime format\n",
    "df['date_column'] = pd.to_datetime(df['date_column'])"
   ]
  },
  {
   "cell_type": "code",
   "execution_count": 15,
   "id": "17250baf-1b9a-4494-9858-6fa453e53eb6",
   "metadata": {},
   "outputs": [
    {
     "name": "stdout",
     "output_type": "stream",
     "text": [
      "<class 'pandas.core.frame.DataFrame'>\n",
      "RangeIndex: 8 entries, 0 to 7\n",
      "Data columns (total 2 columns):\n",
      " #   Column       Non-Null Count  Dtype         \n",
      "---  ------       --------------  -----         \n",
      " 0   date_column  8 non-null      datetime64[ns]\n",
      " 1   time_column  8 non-null      object        \n",
      "dtypes: datetime64[ns](1), object(1)\n",
      "memory usage: 260.0+ bytes\n"
     ]
    }
   ],
   "source": [
    "df.info()"
   ]
  },
  {
   "cell_type": "code",
   "execution_count": 17,
   "id": "fa415d3e-895e-44bd-b501-16ee98320848",
   "metadata": {},
   "outputs": [
    {
     "name": "stdout",
     "output_type": "stream",
     "text": [
      "  date_column time_column     datetime_column\n",
      "0  2021-01-01    12:30:45 2021-01-01 12:30:45\n",
      "1  2022-03-15    15:45:00 2022-03-15 15:45:00\n",
      "2  2020-06-30    08:10:20 2020-06-30 08:10:20\n",
      "3  2019-11-25    22:55:12 2019-11-25 22:55:12\n",
      "4  2021-09-01    06:12:45 2021-09-01 06:12:45\n",
      "5  2023-02-18    14:34:00 2023-02-18 14:34:00\n",
      "6  2020-08-12    03:21:50 2020-08-12 03:21:50\n",
      "7  2021-12-24    19:58:10 2021-12-24 19:58:10\n"
     ]
    }
   ],
   "source": [
    "# Combine date and time columns into a single datetime column\n",
    "df['datetime_column'] = pd.to_datetime(df['date_column'].dt.date.astype(str) + ' ' + df['time_column'])\n",
    "\n",
    "print(df)"
   ]
  },
  {
   "cell_type": "code",
   "execution_count": 19,
   "id": "9b424ca8-6461-4330-9660-b4dd16f62e85",
   "metadata": {},
   "outputs": [
    {
     "name": "stdout",
     "output_type": "stream",
     "text": [
      "<class 'pandas.core.frame.DataFrame'>\n",
      "RangeIndex: 8 entries, 0 to 7\n",
      "Data columns (total 3 columns):\n",
      " #   Column           Non-Null Count  Dtype         \n",
      "---  ------           --------------  -----         \n",
      " 0   date_column      8 non-null      datetime64[ns]\n",
      " 1   time_column      8 non-null      object        \n",
      " 2   datetime_column  8 non-null      datetime64[ns]\n",
      "dtypes: datetime64[ns](2), object(1)\n",
      "memory usage: 324.0+ bytes\n"
     ]
    }
   ],
   "source": [
    "df.info()"
   ]
  },
  {
   "cell_type": "code",
   "execution_count": 21,
   "id": "e8c1fb69-7b9e-4a25-a35d-9eb3c74f8e61",
   "metadata": {},
   "outputs": [],
   "source": [
    "# 1. Extracting year, month, and day\n",
    "df['year'] = df['date_column'].dt.year\n"
   ]
  },
  {
   "cell_type": "code",
   "execution_count": 23,
   "id": "d9c455ad-b46e-46b0-b227-12e51b3fbd46",
   "metadata": {},
   "outputs": [
    {
     "name": "stdout",
     "output_type": "stream",
     "text": [
      "<class 'pandas.core.frame.DataFrame'>\n",
      "RangeIndex: 8 entries, 0 to 7\n",
      "Data columns (total 4 columns):\n",
      " #   Column           Non-Null Count  Dtype         \n",
      "---  ------           --------------  -----         \n",
      " 0   date_column      8 non-null      datetime64[ns]\n",
      " 1   time_column      8 non-null      object        \n",
      " 2   datetime_column  8 non-null      datetime64[ns]\n",
      " 3   year             8 non-null      int32         \n",
      "dtypes: datetime64[ns](2), int32(1), object(1)\n",
      "memory usage: 356.0+ bytes\n"
     ]
    }
   ],
   "source": [
    "df.info()"
   ]
  },
  {
   "cell_type": "code",
   "execution_count": 25,
   "id": "e303a996-c169-4b05-8e5e-d1e1c6be8f24",
   "metadata": {},
   "outputs": [],
   "source": [
    "df['month'] = df['date_column'].dt.month\n"
   ]
  },
  {
   "cell_type": "code",
   "execution_count": 27,
   "id": "050299b9-776c-45a1-8b52-a797d4314bb7",
   "metadata": {},
   "outputs": [
    {
     "name": "stdout",
     "output_type": "stream",
     "text": [
      "<class 'pandas.core.frame.DataFrame'>\n",
      "RangeIndex: 8 entries, 0 to 7\n",
      "Data columns (total 5 columns):\n",
      " #   Column           Non-Null Count  Dtype         \n",
      "---  ------           --------------  -----         \n",
      " 0   date_column      8 non-null      datetime64[ns]\n",
      " 1   time_column      8 non-null      object        \n",
      " 2   datetime_column  8 non-null      datetime64[ns]\n",
      " 3   year             8 non-null      int32         \n",
      " 4   month            8 non-null      int32         \n",
      "dtypes: datetime64[ns](2), int32(2), object(1)\n",
      "memory usage: 388.0+ bytes\n"
     ]
    }
   ],
   "source": [
    "df.info()"
   ]
  },
  {
   "cell_type": "markdown",
   "id": "775b64f1-b0e6-4160-807d-333ea7f9641c",
   "metadata": {},
   "source": [
    "<h3>dt accessor</h3>\n",
    "\n",
    "The dt accessor allows you to extract specific components from a datetime column, such as year, month, day, etc."
   ]
  },
  {
   "cell_type": "code",
   "execution_count": 29,
   "id": "de4c5063-c813-4213-8597-93edac463def",
   "metadata": {},
   "outputs": [],
   "source": [
    "df['day'] = df['date_column'].dt.day"
   ]
  },
  {
   "cell_type": "code",
   "execution_count": 31,
   "id": "2803ae80-7eb7-4beb-8756-28e26963ebd3",
   "metadata": {},
   "outputs": [
    {
     "name": "stdout",
     "output_type": "stream",
     "text": [
      "<class 'pandas.core.frame.DataFrame'>\n",
      "RangeIndex: 8 entries, 0 to 7\n",
      "Data columns (total 6 columns):\n",
      " #   Column           Non-Null Count  Dtype         \n",
      "---  ------           --------------  -----         \n",
      " 0   date_column      8 non-null      datetime64[ns]\n",
      " 1   time_column      8 non-null      object        \n",
      " 2   datetime_column  8 non-null      datetime64[ns]\n",
      " 3   year             8 non-null      int32         \n",
      " 4   month            8 non-null      int32         \n",
      " 5   day              8 non-null      int32         \n",
      "dtypes: datetime64[ns](2), int32(3), object(1)\n",
      "memory usage: 420.0+ bytes\n"
     ]
    }
   ],
   "source": [
    "df.info()"
   ]
  },
  {
   "cell_type": "code",
   "execution_count": 33,
   "id": "3a09c9a2-7185-443a-9dcc-aae6e2e54cc6",
   "metadata": {},
   "outputs": [
    {
     "name": "stdout",
     "output_type": "stream",
     "text": [
      "  date_column time_column     datetime_column  year  month  day\n",
      "0  2021-01-01    12:30:45 2021-01-01 12:30:45  2021      1    1\n",
      "1  2022-03-15    15:45:00 2022-03-15 15:45:00  2022      3   15\n",
      "2  2020-06-30    08:10:20 2020-06-30 08:10:20  2020      6   30\n",
      "3  2019-11-25    22:55:12 2019-11-25 22:55:12  2019     11   25\n",
      "4  2021-09-01    06:12:45 2021-09-01 06:12:45  2021      9    1\n",
      "5  2023-02-18    14:34:00 2023-02-18 14:34:00  2023      2   18\n",
      "6  2020-08-12    03:21:50 2020-08-12 03:21:50  2020      8   12\n",
      "7  2021-12-24    19:58:10 2021-12-24 19:58:10  2021     12   24\n"
     ]
    }
   ],
   "source": [
    "print(df)"
   ]
  },
  {
   "cell_type": "code",
   "execution_count": 35,
   "id": "3d6037e0-bb7c-498b-b24d-4d1c4009d768",
   "metadata": {},
   "outputs": [],
   "source": [
    "df['weekday'] = df['date_column'].dt.weekday  # Monday=0, Sunday=6"
   ]
  },
  {
   "cell_type": "code",
   "execution_count": 37,
   "id": "bbf07dc6-516d-4759-95a0-b2683215716e",
   "metadata": {},
   "outputs": [
    {
     "name": "stdout",
     "output_type": "stream",
     "text": [
      "  date_column time_column     datetime_column  year  month  day  weekday\n",
      "0  2021-01-01    12:30:45 2021-01-01 12:30:45  2021      1    1        4\n",
      "1  2022-03-15    15:45:00 2022-03-15 15:45:00  2022      3   15        1\n",
      "2  2020-06-30    08:10:20 2020-06-30 08:10:20  2020      6   30        1\n",
      "3  2019-11-25    22:55:12 2019-11-25 22:55:12  2019     11   25        0\n",
      "4  2021-09-01    06:12:45 2021-09-01 06:12:45  2021      9    1        2\n",
      "5  2023-02-18    14:34:00 2023-02-18 14:34:00  2023      2   18        5\n",
      "6  2020-08-12    03:21:50 2020-08-12 03:21:50  2020      8   12        2\n",
      "7  2021-12-24    19:58:10 2021-12-24 19:58:10  2021     12   24        4\n"
     ]
    }
   ],
   "source": [
    "print(df)"
   ]
  },
  {
   "cell_type": "code",
   "execution_count": 39,
   "id": "518957f6-55f8-4d90-b58f-42170bb8f54b",
   "metadata": {},
   "outputs": [],
   "source": [
    "# 2. Checking if date falls within a range\n",
    "df['is_between'] = df['date_column'].between('2020-01-01', '2022-12-31')"
   ]
  },
  {
   "cell_type": "code",
   "execution_count": 49,
   "id": "a1e38ced-020a-46dd-854b-0ca662e67ecf",
   "metadata": {},
   "outputs": [
    {
     "data": {
      "text/html": [
       "<div>\n",
       "<style scoped>\n",
       "    .dataframe tbody tr th:only-of-type {\n",
       "        vertical-align: middle;\n",
       "    }\n",
       "\n",
       "    .dataframe tbody tr th {\n",
       "        vertical-align: top;\n",
       "    }\n",
       "\n",
       "    .dataframe thead th {\n",
       "        text-align: right;\n",
       "    }\n",
       "</style>\n",
       "<table border=\"1\" class=\"dataframe\">\n",
       "  <thead>\n",
       "    <tr style=\"text-align: right;\">\n",
       "      <th></th>\n",
       "      <th>is_between</th>\n",
       "      <th>date_column</th>\n",
       "    </tr>\n",
       "  </thead>\n",
       "  <tbody>\n",
       "    <tr>\n",
       "      <th>0</th>\n",
       "      <td>True</td>\n",
       "      <td>2021-01-01</td>\n",
       "    </tr>\n",
       "    <tr>\n",
       "      <th>1</th>\n",
       "      <td>True</td>\n",
       "      <td>2022-03-15</td>\n",
       "    </tr>\n",
       "    <tr>\n",
       "      <th>2</th>\n",
       "      <td>True</td>\n",
       "      <td>2020-06-30</td>\n",
       "    </tr>\n",
       "    <tr>\n",
       "      <th>3</th>\n",
       "      <td>False</td>\n",
       "      <td>2019-11-25</td>\n",
       "    </tr>\n",
       "    <tr>\n",
       "      <th>4</th>\n",
       "      <td>True</td>\n",
       "      <td>2021-09-01</td>\n",
       "    </tr>\n",
       "    <tr>\n",
       "      <th>5</th>\n",
       "      <td>False</td>\n",
       "      <td>2023-02-18</td>\n",
       "    </tr>\n",
       "    <tr>\n",
       "      <th>6</th>\n",
       "      <td>True</td>\n",
       "      <td>2020-08-12</td>\n",
       "    </tr>\n",
       "    <tr>\n",
       "      <th>7</th>\n",
       "      <td>True</td>\n",
       "      <td>2021-12-24</td>\n",
       "    </tr>\n",
       "  </tbody>\n",
       "</table>\n",
       "</div>"
      ],
      "text/plain": [
       "   is_between date_column\n",
       "0        True  2021-01-01\n",
       "1        True  2022-03-15\n",
       "2        True  2020-06-30\n",
       "3       False  2019-11-25\n",
       "4        True  2021-09-01\n",
       "5       False  2023-02-18\n",
       "6        True  2020-08-12\n",
       "7        True  2021-12-24"
      ]
     },
     "execution_count": 49,
     "metadata": {},
     "output_type": "execute_result"
    }
   ],
   "source": [
    "df[['is_between','date_column']]\n"
   ]
  },
  {
   "cell_type": "markdown",
   "id": "e02e4600-a332-4ef8-96d3-c4cf9e1f10f8",
   "metadata": {},
   "source": [
    "\n",
    "<h3>pd.to_timedelta()</h3>\n",
    "\n",
    "This function is used to convert a series or list of time differences into timedelta objects (used for date arithmetic).\n",
    "\n",
    "You can perform arithmetic operations with datetime objects using Timedelta.\n",
    "\n",
    "# Adding time to a date\n",
    "df['date_column'] + pd.Timedelta(days=5)  # Adds 5 days\n",
    "\n",
    "# Subtracting time from a date\n",
    "df['date_column'] - pd.Timedelta(weeks=1)  # Subtracts 1 week\n"
   ]
  },
  {
   "cell_type": "code",
   "execution_count": 51,
   "id": "8ec88f04-aea3-4587-a4a7-5e97bd9c2075",
   "metadata": {},
   "outputs": [],
   "source": [
    "# 3. Adding days using Timedelta\n",
    "df['date_plus_5_days'] = df['date_column'] + pd.Timedelta(days=5)"
   ]
  },
  {
   "cell_type": "code",
   "execution_count": 53,
   "id": "4847b153-fdb2-42bc-9a33-96d5272dc684",
   "metadata": {},
   "outputs": [
    {
     "data": {
      "text/html": [
       "<div>\n",
       "<style scoped>\n",
       "    .dataframe tbody tr th:only-of-type {\n",
       "        vertical-align: middle;\n",
       "    }\n",
       "\n",
       "    .dataframe tbody tr th {\n",
       "        vertical-align: top;\n",
       "    }\n",
       "\n",
       "    .dataframe thead th {\n",
       "        text-align: right;\n",
       "    }\n",
       "</style>\n",
       "<table border=\"1\" class=\"dataframe\">\n",
       "  <thead>\n",
       "    <tr style=\"text-align: right;\">\n",
       "      <th></th>\n",
       "      <th>date_plus_5_days</th>\n",
       "      <th>date_column</th>\n",
       "    </tr>\n",
       "  </thead>\n",
       "  <tbody>\n",
       "    <tr>\n",
       "      <th>0</th>\n",
       "      <td>2021-01-06</td>\n",
       "      <td>2021-01-01</td>\n",
       "    </tr>\n",
       "    <tr>\n",
       "      <th>1</th>\n",
       "      <td>2022-03-20</td>\n",
       "      <td>2022-03-15</td>\n",
       "    </tr>\n",
       "    <tr>\n",
       "      <th>2</th>\n",
       "      <td>2020-07-05</td>\n",
       "      <td>2020-06-30</td>\n",
       "    </tr>\n",
       "    <tr>\n",
       "      <th>3</th>\n",
       "      <td>2019-11-30</td>\n",
       "      <td>2019-11-25</td>\n",
       "    </tr>\n",
       "    <tr>\n",
       "      <th>4</th>\n",
       "      <td>2021-09-06</td>\n",
       "      <td>2021-09-01</td>\n",
       "    </tr>\n",
       "    <tr>\n",
       "      <th>5</th>\n",
       "      <td>2023-02-23</td>\n",
       "      <td>2023-02-18</td>\n",
       "    </tr>\n",
       "    <tr>\n",
       "      <th>6</th>\n",
       "      <td>2020-08-17</td>\n",
       "      <td>2020-08-12</td>\n",
       "    </tr>\n",
       "    <tr>\n",
       "      <th>7</th>\n",
       "      <td>2021-12-29</td>\n",
       "      <td>2021-12-24</td>\n",
       "    </tr>\n",
       "  </tbody>\n",
       "</table>\n",
       "</div>"
      ],
      "text/plain": [
       "  date_plus_5_days date_column\n",
       "0       2021-01-06  2021-01-01\n",
       "1       2022-03-20  2022-03-15\n",
       "2       2020-07-05  2020-06-30\n",
       "3       2019-11-30  2019-11-25\n",
       "4       2021-09-06  2021-09-01\n",
       "5       2023-02-23  2023-02-18\n",
       "6       2020-08-17  2020-08-12\n",
       "7       2021-12-29  2021-12-24"
      ]
     },
     "execution_count": 53,
     "metadata": {},
     "output_type": "execute_result"
    }
   ],
   "source": [
    "df[['date_plus_5_days','date_column']]"
   ]
  },
  {
   "cell_type": "markdown",
   "id": "3f3017c9-ee8d-4a3c-b0f1-b8521d54cf8b",
   "metadata": {},
   "source": [
    "<h2>strftime() and strptime()</h2>\n",
    "strftime(): Formats a datetime object as a string.\n",
    "\n",
    "strptime(): Converts a string to a datetime object using a specified format."
   ]
  },
  {
   "cell_type": "code",
   "execution_count": 55,
   "id": "658bb237-0b20-45c1-a2c1-ad1bce461697",
   "metadata": {},
   "outputs": [],
   "source": [
    "# 4. Formatting datetime to string\n",
    "df['formatted_date'] = df['date_column'].dt.strftime('%Y-%m-%d')"
   ]
  },
  {
   "cell_type": "code",
   "execution_count": 91,
   "id": "a22880f8-7bc6-4807-9f7b-205dfeee1ea4",
   "metadata": {},
   "outputs": [],
   "source": [
    "#Convert string to datetime with a specific format\n",
    "df['date_column'] = pd.to_datetime(df['date_column'], format='%Y-%m-%d')"
   ]
  },
  {
   "cell_type": "code",
   "execution_count": 93,
   "id": "9797d4c7-ce9b-40f3-a96c-013400128f81",
   "metadata": {},
   "outputs": [
    {
     "data": {
      "text/html": [
       "<div>\n",
       "<style scoped>\n",
       "    .dataframe tbody tr th:only-of-type {\n",
       "        vertical-align: middle;\n",
       "    }\n",
       "\n",
       "    .dataframe tbody tr th {\n",
       "        vertical-align: top;\n",
       "    }\n",
       "\n",
       "    .dataframe thead th {\n",
       "        text-align: right;\n",
       "    }\n",
       "</style>\n",
       "<table border=\"1\" class=\"dataframe\">\n",
       "  <thead>\n",
       "    <tr style=\"text-align: right;\">\n",
       "      <th></th>\n",
       "      <th>date_column</th>\n",
       "      <th>time_column</th>\n",
       "      <th>datetime_column</th>\n",
       "      <th>year</th>\n",
       "      <th>month</th>\n",
       "      <th>day</th>\n",
       "      <th>weekday</th>\n",
       "      <th>is_between</th>\n",
       "      <th>date_plus_5_days</th>\n",
       "      <th>formatted_date</th>\n",
       "      <th>is_leap_year</th>\n",
       "    </tr>\n",
       "  </thead>\n",
       "  <tbody>\n",
       "    <tr>\n",
       "      <th>0</th>\n",
       "      <td>2021-01-01</td>\n",
       "      <td>12:30:45</td>\n",
       "      <td>2021-01-01 12:30:45</td>\n",
       "      <td>2021</td>\n",
       "      <td>1</td>\n",
       "      <td>1</td>\n",
       "      <td>4</td>\n",
       "      <td>True</td>\n",
       "      <td>2021-01-06</td>\n",
       "      <td>2021-01-01</td>\n",
       "      <td>False</td>\n",
       "    </tr>\n",
       "    <tr>\n",
       "      <th>1</th>\n",
       "      <td>2022-03-15</td>\n",
       "      <td>15:45:00</td>\n",
       "      <td>2022-03-15 15:45:00</td>\n",
       "      <td>2022</td>\n",
       "      <td>3</td>\n",
       "      <td>15</td>\n",
       "      <td>1</td>\n",
       "      <td>True</td>\n",
       "      <td>2022-03-20</td>\n",
       "      <td>2022-03-15</td>\n",
       "      <td>False</td>\n",
       "    </tr>\n",
       "    <tr>\n",
       "      <th>2</th>\n",
       "      <td>2020-06-30</td>\n",
       "      <td>08:10:20</td>\n",
       "      <td>2020-06-30 08:10:20</td>\n",
       "      <td>2020</td>\n",
       "      <td>6</td>\n",
       "      <td>30</td>\n",
       "      <td>1</td>\n",
       "      <td>True</td>\n",
       "      <td>2020-07-05</td>\n",
       "      <td>2020-06-30</td>\n",
       "      <td>True</td>\n",
       "    </tr>\n",
       "    <tr>\n",
       "      <th>3</th>\n",
       "      <td>2019-11-25</td>\n",
       "      <td>22:55:12</td>\n",
       "      <td>2019-11-25 22:55:12</td>\n",
       "      <td>2019</td>\n",
       "      <td>11</td>\n",
       "      <td>25</td>\n",
       "      <td>0</td>\n",
       "      <td>False</td>\n",
       "      <td>2019-11-30</td>\n",
       "      <td>2019-11-25</td>\n",
       "      <td>False</td>\n",
       "    </tr>\n",
       "    <tr>\n",
       "      <th>4</th>\n",
       "      <td>2021-09-01</td>\n",
       "      <td>06:12:45</td>\n",
       "      <td>2021-09-01 06:12:45</td>\n",
       "      <td>2021</td>\n",
       "      <td>9</td>\n",
       "      <td>1</td>\n",
       "      <td>2</td>\n",
       "      <td>True</td>\n",
       "      <td>2021-09-06</td>\n",
       "      <td>2021-09-01</td>\n",
       "      <td>False</td>\n",
       "    </tr>\n",
       "    <tr>\n",
       "      <th>5</th>\n",
       "      <td>2023-02-18</td>\n",
       "      <td>14:34:00</td>\n",
       "      <td>2023-02-18 14:34:00</td>\n",
       "      <td>2023</td>\n",
       "      <td>2</td>\n",
       "      <td>18</td>\n",
       "      <td>5</td>\n",
       "      <td>False</td>\n",
       "      <td>2023-02-23</td>\n",
       "      <td>2023-02-18</td>\n",
       "      <td>False</td>\n",
       "    </tr>\n",
       "    <tr>\n",
       "      <th>6</th>\n",
       "      <td>2020-08-12</td>\n",
       "      <td>03:21:50</td>\n",
       "      <td>2020-08-12 03:21:50</td>\n",
       "      <td>2020</td>\n",
       "      <td>8</td>\n",
       "      <td>12</td>\n",
       "      <td>2</td>\n",
       "      <td>True</td>\n",
       "      <td>2020-08-17</td>\n",
       "      <td>2020-08-12</td>\n",
       "      <td>True</td>\n",
       "    </tr>\n",
       "    <tr>\n",
       "      <th>7</th>\n",
       "      <td>2021-12-24</td>\n",
       "      <td>19:58:10</td>\n",
       "      <td>2021-12-24 19:58:10</td>\n",
       "      <td>2021</td>\n",
       "      <td>12</td>\n",
       "      <td>24</td>\n",
       "      <td>4</td>\n",
       "      <td>True</td>\n",
       "      <td>2021-12-29</td>\n",
       "      <td>2021-12-24</td>\n",
       "      <td>False</td>\n",
       "    </tr>\n",
       "  </tbody>\n",
       "</table>\n",
       "</div>"
      ],
      "text/plain": [
       "  date_column time_column     datetime_column  year  month  day  weekday  \\\n",
       "0  2021-01-01    12:30:45 2021-01-01 12:30:45  2021      1    1        4   \n",
       "1  2022-03-15    15:45:00 2022-03-15 15:45:00  2022      3   15        1   \n",
       "2  2020-06-30    08:10:20 2020-06-30 08:10:20  2020      6   30        1   \n",
       "3  2019-11-25    22:55:12 2019-11-25 22:55:12  2019     11   25        0   \n",
       "4  2021-09-01    06:12:45 2021-09-01 06:12:45  2021      9    1        2   \n",
       "5  2023-02-18    14:34:00 2023-02-18 14:34:00  2023      2   18        5   \n",
       "6  2020-08-12    03:21:50 2020-08-12 03:21:50  2020      8   12        2   \n",
       "7  2021-12-24    19:58:10 2021-12-24 19:58:10  2021     12   24        4   \n",
       "\n",
       "   is_between date_plus_5_days formatted_date  is_leap_year  \n",
       "0        True       2021-01-06     2021-01-01         False  \n",
       "1        True       2022-03-20     2022-03-15         False  \n",
       "2        True       2020-07-05     2020-06-30          True  \n",
       "3       False       2019-11-30     2019-11-25         False  \n",
       "4        True       2021-09-06     2021-09-01         False  \n",
       "5       False       2023-02-23     2023-02-18         False  \n",
       "6        True       2020-08-17     2020-08-12          True  \n",
       "7        True       2021-12-29     2021-12-24         False  "
      ]
     },
     "execution_count": 93,
     "metadata": {},
     "output_type": "execute_result"
    }
   ],
   "source": [
    "df"
   ]
  },
  {
   "cell_type": "code",
   "execution_count": 95,
   "id": "b7ca0c50-f8d3-4a2f-8494-7a8b119a6083",
   "metadata": {},
   "outputs": [
    {
     "name": "stdout",
     "output_type": "stream",
     "text": [
      "<class 'pandas.core.frame.DataFrame'>\n",
      "RangeIndex: 8 entries, 0 to 7\n",
      "Data columns (total 11 columns):\n",
      " #   Column            Non-Null Count  Dtype         \n",
      "---  ------            --------------  -----         \n",
      " 0   date_column       8 non-null      datetime64[ns]\n",
      " 1   time_column       8 non-null      object        \n",
      " 2   datetime_column   8 non-null      datetime64[ns]\n",
      " 3   year              8 non-null      int32         \n",
      " 4   month             8 non-null      int32         \n",
      " 5   day               8 non-null      int32         \n",
      " 6   weekday           8 non-null      int32         \n",
      " 7   is_between        8 non-null      bool          \n",
      " 8   date_plus_5_days  8 non-null      datetime64[ns]\n",
      " 9   formatted_date    8 non-null      object        \n",
      " 10  is_leap_year      8 non-null      bool          \n",
      "dtypes: bool(2), datetime64[ns](3), int32(4), object(2)\n",
      "memory usage: 596.0+ bytes\n"
     ]
    }
   ],
   "source": [
    "df.info()"
   ]
  },
  {
   "cell_type": "code",
   "execution_count": 59,
   "id": "19b69182-7f64-4110-bfce-ed891c36c4de",
   "metadata": {},
   "outputs": [],
   "source": [
    "# 5. Checking if the year is a leap year\n",
    "df['is_leap_year'] = df['date_column'].dt.is_leap_year"
   ]
  },
  {
   "cell_type": "code",
   "execution_count": 61,
   "id": "b3d525c8-84e4-4871-8543-abc9dfbf4c3f",
   "metadata": {},
   "outputs": [
    {
     "data": {
      "text/html": [
       "<div>\n",
       "<style scoped>\n",
       "    .dataframe tbody tr th:only-of-type {\n",
       "        vertical-align: middle;\n",
       "    }\n",
       "\n",
       "    .dataframe tbody tr th {\n",
       "        vertical-align: top;\n",
       "    }\n",
       "\n",
       "    .dataframe thead th {\n",
       "        text-align: right;\n",
       "    }\n",
       "</style>\n",
       "<table border=\"1\" class=\"dataframe\">\n",
       "  <thead>\n",
       "    <tr style=\"text-align: right;\">\n",
       "      <th></th>\n",
       "      <th>date_column</th>\n",
       "      <th>time_column</th>\n",
       "      <th>datetime_column</th>\n",
       "      <th>year</th>\n",
       "      <th>month</th>\n",
       "      <th>day</th>\n",
       "      <th>weekday</th>\n",
       "      <th>is_between</th>\n",
       "      <th>date_plus_5_days</th>\n",
       "      <th>formatted_date</th>\n",
       "      <th>is_leap_year</th>\n",
       "    </tr>\n",
       "  </thead>\n",
       "  <tbody>\n",
       "    <tr>\n",
       "      <th>0</th>\n",
       "      <td>2021-01-01</td>\n",
       "      <td>12:30:45</td>\n",
       "      <td>2021-01-01 12:30:45</td>\n",
       "      <td>2021</td>\n",
       "      <td>1</td>\n",
       "      <td>1</td>\n",
       "      <td>4</td>\n",
       "      <td>True</td>\n",
       "      <td>2021-01-06</td>\n",
       "      <td>2021-01-01</td>\n",
       "      <td>False</td>\n",
       "    </tr>\n",
       "    <tr>\n",
       "      <th>1</th>\n",
       "      <td>2022-03-15</td>\n",
       "      <td>15:45:00</td>\n",
       "      <td>2022-03-15 15:45:00</td>\n",
       "      <td>2022</td>\n",
       "      <td>3</td>\n",
       "      <td>15</td>\n",
       "      <td>1</td>\n",
       "      <td>True</td>\n",
       "      <td>2022-03-20</td>\n",
       "      <td>2022-03-15</td>\n",
       "      <td>False</td>\n",
       "    </tr>\n",
       "    <tr>\n",
       "      <th>2</th>\n",
       "      <td>2020-06-30</td>\n",
       "      <td>08:10:20</td>\n",
       "      <td>2020-06-30 08:10:20</td>\n",
       "      <td>2020</td>\n",
       "      <td>6</td>\n",
       "      <td>30</td>\n",
       "      <td>1</td>\n",
       "      <td>True</td>\n",
       "      <td>2020-07-05</td>\n",
       "      <td>2020-06-30</td>\n",
       "      <td>True</td>\n",
       "    </tr>\n",
       "    <tr>\n",
       "      <th>3</th>\n",
       "      <td>2019-11-25</td>\n",
       "      <td>22:55:12</td>\n",
       "      <td>2019-11-25 22:55:12</td>\n",
       "      <td>2019</td>\n",
       "      <td>11</td>\n",
       "      <td>25</td>\n",
       "      <td>0</td>\n",
       "      <td>False</td>\n",
       "      <td>2019-11-30</td>\n",
       "      <td>2019-11-25</td>\n",
       "      <td>False</td>\n",
       "    </tr>\n",
       "    <tr>\n",
       "      <th>4</th>\n",
       "      <td>2021-09-01</td>\n",
       "      <td>06:12:45</td>\n",
       "      <td>2021-09-01 06:12:45</td>\n",
       "      <td>2021</td>\n",
       "      <td>9</td>\n",
       "      <td>1</td>\n",
       "      <td>2</td>\n",
       "      <td>True</td>\n",
       "      <td>2021-09-06</td>\n",
       "      <td>2021-09-01</td>\n",
       "      <td>False</td>\n",
       "    </tr>\n",
       "    <tr>\n",
       "      <th>5</th>\n",
       "      <td>2023-02-18</td>\n",
       "      <td>14:34:00</td>\n",
       "      <td>2023-02-18 14:34:00</td>\n",
       "      <td>2023</td>\n",
       "      <td>2</td>\n",
       "      <td>18</td>\n",
       "      <td>5</td>\n",
       "      <td>False</td>\n",
       "      <td>2023-02-23</td>\n",
       "      <td>2023-02-18</td>\n",
       "      <td>False</td>\n",
       "    </tr>\n",
       "    <tr>\n",
       "      <th>6</th>\n",
       "      <td>2020-08-12</td>\n",
       "      <td>03:21:50</td>\n",
       "      <td>2020-08-12 03:21:50</td>\n",
       "      <td>2020</td>\n",
       "      <td>8</td>\n",
       "      <td>12</td>\n",
       "      <td>2</td>\n",
       "      <td>True</td>\n",
       "      <td>2020-08-17</td>\n",
       "      <td>2020-08-12</td>\n",
       "      <td>True</td>\n",
       "    </tr>\n",
       "    <tr>\n",
       "      <th>7</th>\n",
       "      <td>2021-12-24</td>\n",
       "      <td>19:58:10</td>\n",
       "      <td>2021-12-24 19:58:10</td>\n",
       "      <td>2021</td>\n",
       "      <td>12</td>\n",
       "      <td>24</td>\n",
       "      <td>4</td>\n",
       "      <td>True</td>\n",
       "      <td>2021-12-29</td>\n",
       "      <td>2021-12-24</td>\n",
       "      <td>False</td>\n",
       "    </tr>\n",
       "  </tbody>\n",
       "</table>\n",
       "</div>"
      ],
      "text/plain": [
       "  date_column time_column     datetime_column  year  month  day  weekday  \\\n",
       "0  2021-01-01    12:30:45 2021-01-01 12:30:45  2021      1    1        4   \n",
       "1  2022-03-15    15:45:00 2022-03-15 15:45:00  2022      3   15        1   \n",
       "2  2020-06-30    08:10:20 2020-06-30 08:10:20  2020      6   30        1   \n",
       "3  2019-11-25    22:55:12 2019-11-25 22:55:12  2019     11   25        0   \n",
       "4  2021-09-01    06:12:45 2021-09-01 06:12:45  2021      9    1        2   \n",
       "5  2023-02-18    14:34:00 2023-02-18 14:34:00  2023      2   18        5   \n",
       "6  2020-08-12    03:21:50 2020-08-12 03:21:50  2020      8   12        2   \n",
       "7  2021-12-24    19:58:10 2021-12-24 19:58:10  2021     12   24        4   \n",
       "\n",
       "   is_between date_plus_5_days formatted_date  is_leap_year  \n",
       "0        True       2021-01-06     2021-01-01         False  \n",
       "1        True       2022-03-20     2022-03-15         False  \n",
       "2        True       2020-07-05     2020-06-30          True  \n",
       "3       False       2019-11-30     2019-11-25         False  \n",
       "4        True       2021-09-06     2021-09-01         False  \n",
       "5       False       2023-02-23     2023-02-18         False  \n",
       "6        True       2020-08-17     2020-08-12          True  \n",
       "7        True       2021-12-29     2021-12-24         False  "
      ]
     },
     "execution_count": 61,
     "metadata": {},
     "output_type": "execute_result"
    }
   ],
   "source": [
    "df"
   ]
  },
  {
   "cell_type": "code",
   "execution_count": 63,
   "id": "c6c071d5-f6d6-4486-8c40-565aa1d03746",
   "metadata": {},
   "outputs": [
    {
     "name": "stderr",
     "output_type": "stream",
     "text": [
      "C:\\Users\\Admin\\AppData\\Local\\Temp\\ipykernel_7164\\3289921637.py:2: FutureWarning: 'Y' is deprecated and will be removed in a future version, please use 'YE' instead.\n",
      "  df_resampled = df.resample('Y', on='date_column').count()\n"
     ]
    }
   ],
   "source": [
    "# 6. Resampling data (e.g., grouping by year and getting the count)\n",
    "df_resampled = df.resample('Y', on='date_column').count()"
   ]
  },
  {
   "cell_type": "code",
   "execution_count": 65,
   "id": "4010fd5a-0b4e-4e84-b86a-eb33d18e3085",
   "metadata": {},
   "outputs": [
    {
     "data": {
      "text/html": [
       "<div>\n",
       "<style scoped>\n",
       "    .dataframe tbody tr th:only-of-type {\n",
       "        vertical-align: middle;\n",
       "    }\n",
       "\n",
       "    .dataframe tbody tr th {\n",
       "        vertical-align: top;\n",
       "    }\n",
       "\n",
       "    .dataframe thead th {\n",
       "        text-align: right;\n",
       "    }\n",
       "</style>\n",
       "<table border=\"1\" class=\"dataframe\">\n",
       "  <thead>\n",
       "    <tr style=\"text-align: right;\">\n",
       "      <th></th>\n",
       "      <th>time_column</th>\n",
       "      <th>datetime_column</th>\n",
       "      <th>year</th>\n",
       "      <th>month</th>\n",
       "      <th>day</th>\n",
       "      <th>weekday</th>\n",
       "      <th>is_between</th>\n",
       "      <th>date_plus_5_days</th>\n",
       "      <th>formatted_date</th>\n",
       "      <th>is_leap_year</th>\n",
       "    </tr>\n",
       "    <tr>\n",
       "      <th>date_column</th>\n",
       "      <th></th>\n",
       "      <th></th>\n",
       "      <th></th>\n",
       "      <th></th>\n",
       "      <th></th>\n",
       "      <th></th>\n",
       "      <th></th>\n",
       "      <th></th>\n",
       "      <th></th>\n",
       "      <th></th>\n",
       "    </tr>\n",
       "  </thead>\n",
       "  <tbody>\n",
       "    <tr>\n",
       "      <th>2019-12-31</th>\n",
       "      <td>1</td>\n",
       "      <td>1</td>\n",
       "      <td>1</td>\n",
       "      <td>1</td>\n",
       "      <td>1</td>\n",
       "      <td>1</td>\n",
       "      <td>1</td>\n",
       "      <td>1</td>\n",
       "      <td>1</td>\n",
       "      <td>1</td>\n",
       "    </tr>\n",
       "    <tr>\n",
       "      <th>2020-12-31</th>\n",
       "      <td>2</td>\n",
       "      <td>2</td>\n",
       "      <td>2</td>\n",
       "      <td>2</td>\n",
       "      <td>2</td>\n",
       "      <td>2</td>\n",
       "      <td>2</td>\n",
       "      <td>2</td>\n",
       "      <td>2</td>\n",
       "      <td>2</td>\n",
       "    </tr>\n",
       "    <tr>\n",
       "      <th>2021-12-31</th>\n",
       "      <td>3</td>\n",
       "      <td>3</td>\n",
       "      <td>3</td>\n",
       "      <td>3</td>\n",
       "      <td>3</td>\n",
       "      <td>3</td>\n",
       "      <td>3</td>\n",
       "      <td>3</td>\n",
       "      <td>3</td>\n",
       "      <td>3</td>\n",
       "    </tr>\n",
       "    <tr>\n",
       "      <th>2022-12-31</th>\n",
       "      <td>1</td>\n",
       "      <td>1</td>\n",
       "      <td>1</td>\n",
       "      <td>1</td>\n",
       "      <td>1</td>\n",
       "      <td>1</td>\n",
       "      <td>1</td>\n",
       "      <td>1</td>\n",
       "      <td>1</td>\n",
       "      <td>1</td>\n",
       "    </tr>\n",
       "    <tr>\n",
       "      <th>2023-12-31</th>\n",
       "      <td>1</td>\n",
       "      <td>1</td>\n",
       "      <td>1</td>\n",
       "      <td>1</td>\n",
       "      <td>1</td>\n",
       "      <td>1</td>\n",
       "      <td>1</td>\n",
       "      <td>1</td>\n",
       "      <td>1</td>\n",
       "      <td>1</td>\n",
       "    </tr>\n",
       "  </tbody>\n",
       "</table>\n",
       "</div>"
      ],
      "text/plain": [
       "             time_column  datetime_column  year  month  day  weekday  \\\n",
       "date_column                                                            \n",
       "2019-12-31             1                1     1      1    1        1   \n",
       "2020-12-31             2                2     2      2    2        2   \n",
       "2021-12-31             3                3     3      3    3        3   \n",
       "2022-12-31             1                1     1      1    1        1   \n",
       "2023-12-31             1                1     1      1    1        1   \n",
       "\n",
       "             is_between  date_plus_5_days  formatted_date  is_leap_year  \n",
       "date_column                                                              \n",
       "2019-12-31            1                 1               1             1  \n",
       "2020-12-31            2                 2               2             2  \n",
       "2021-12-31            3                 3               3             3  \n",
       "2022-12-31            1                 1               1             1  \n",
       "2023-12-31            1                 1               1             1  "
      ]
     },
     "execution_count": 65,
     "metadata": {},
     "output_type": "execute_result"
    }
   ],
   "source": [
    "df_resampled"
   ]
  },
  {
   "cell_type": "code",
   "execution_count": 71,
   "id": "df288de3-cbed-4b00-8231-d4895c3faa13",
   "metadata": {},
   "outputs": [],
   "source": [
    "#pd.date_range()\n",
    "#Generates a sequence of dates."
   ]
  },
  {
   "cell_type": "code",
   "execution_count": 73,
   "id": "d46e936f-0810-4096-a5e2-343700b7ed10",
   "metadata": {},
   "outputs": [],
   "source": [
    "# Generate a date range\n",
    "date_range = pd.date_range(start='2021-01-01', end='2021-12-31', freq='D')  # Daily frequency\n"
   ]
  },
  {
   "cell_type": "code",
   "execution_count": 75,
   "id": "af5136a8-f612-448f-a276-c88174dfb018",
   "metadata": {},
   "outputs": [
    {
     "data": {
      "text/plain": [
       "DatetimeIndex(['2021-01-01', '2021-01-02', '2021-01-03', '2021-01-04',\n",
       "               '2021-01-05', '2021-01-06', '2021-01-07', '2021-01-08',\n",
       "               '2021-01-09', '2021-01-10',\n",
       "               ...\n",
       "               '2021-12-22', '2021-12-23', '2021-12-24', '2021-12-25',\n",
       "               '2021-12-26', '2021-12-27', '2021-12-28', '2021-12-29',\n",
       "               '2021-12-30', '2021-12-31'],\n",
       "              dtype='datetime64[ns]', length=365, freq='D')"
      ]
     },
     "execution_count": 75,
     "metadata": {},
     "output_type": "execute_result"
    }
   ],
   "source": [
    "date_range"
   ]
  },
  {
   "cell_type": "code",
   "execution_count": 81,
   "id": "ab395bfd-0f70-4dad-a341-1b3ef0deac19",
   "metadata": {},
   "outputs": [],
   "source": [
    "date_range1 = pd.date_range(start='2021-01-01', end='2021-12-31', freq='ME')  # Daily frequency\n"
   ]
  },
  {
   "cell_type": "code",
   "execution_count": 83,
   "id": "730007f5-b002-485f-a0a4-30e978f06baa",
   "metadata": {},
   "outputs": [
    {
     "data": {
      "text/plain": [
       "DatetimeIndex(['2021-01-31', '2021-02-28', '2021-03-31', '2021-04-30',\n",
       "               '2021-05-31', '2021-06-30', '2021-07-31', '2021-08-31',\n",
       "               '2021-09-30', '2021-10-31', '2021-11-30', '2021-12-31'],\n",
       "              dtype='datetime64[ns]', freq='ME')"
      ]
     },
     "execution_count": 83,
     "metadata": {},
     "output_type": "execute_result"
    }
   ],
   "source": [
    "date_range1"
   ]
  },
  {
   "cell_type": "markdown",
   "id": "68e83ecb-7bb7-471b-a3c4-bf6400c3518c",
   "metadata": {},
   "source": [
    "<h1>DateOffset</h1> \n",
    "Used to create offsets for date manipulation (e.g., adding months, days, etc.).\n"
   ]
  },
  {
   "cell_type": "code",
   "execution_count": 103,
   "id": "48cb2335-38b1-473c-a984-dff9d83114e4",
   "metadata": {},
   "outputs": [],
   "source": [
    "from pandas.tseries.offsets import DateOffset\n",
    "\n",
    "# Adding 1 month to a date\n",
    "df['new_date'] = df['date_column'] + DateOffset(months=1)\n",
    "\n",
    "# Adding 1 year to a date\n",
    "df['new_date_year'] = df['date_column'] + DateOffset(years=1)\n"
   ]
  },
  {
   "cell_type": "code",
   "execution_count": 105,
   "id": "e1c34a8b-2c03-44df-892a-99849b8ac4fe",
   "metadata": {},
   "outputs": [
    {
     "data": {
      "text/html": [
       "<div>\n",
       "<style scoped>\n",
       "    .dataframe tbody tr th:only-of-type {\n",
       "        vertical-align: middle;\n",
       "    }\n",
       "\n",
       "    .dataframe tbody tr th {\n",
       "        vertical-align: top;\n",
       "    }\n",
       "\n",
       "    .dataframe thead th {\n",
       "        text-align: right;\n",
       "    }\n",
       "</style>\n",
       "<table border=\"1\" class=\"dataframe\">\n",
       "  <thead>\n",
       "    <tr style=\"text-align: right;\">\n",
       "      <th></th>\n",
       "      <th>date_column</th>\n",
       "      <th>time_column</th>\n",
       "      <th>datetime_column</th>\n",
       "      <th>year</th>\n",
       "      <th>month</th>\n",
       "      <th>day</th>\n",
       "      <th>weekday</th>\n",
       "      <th>is_between</th>\n",
       "      <th>date_plus_5_days</th>\n",
       "      <th>formatted_date</th>\n",
       "      <th>is_leap_year</th>\n",
       "      <th>new_date</th>\n",
       "      <th>new_date_year</th>\n",
       "    </tr>\n",
       "  </thead>\n",
       "  <tbody>\n",
       "    <tr>\n",
       "      <th>0</th>\n",
       "      <td>2021-01-01</td>\n",
       "      <td>12:30:45</td>\n",
       "      <td>2021-01-01 12:30:45</td>\n",
       "      <td>2021</td>\n",
       "      <td>1</td>\n",
       "      <td>1</td>\n",
       "      <td>4</td>\n",
       "      <td>True</td>\n",
       "      <td>2021-01-06</td>\n",
       "      <td>2021-01-01</td>\n",
       "      <td>False</td>\n",
       "      <td>2021-02-01</td>\n",
       "      <td>2022-01-01</td>\n",
       "    </tr>\n",
       "    <tr>\n",
       "      <th>1</th>\n",
       "      <td>2022-03-15</td>\n",
       "      <td>15:45:00</td>\n",
       "      <td>2022-03-15 15:45:00</td>\n",
       "      <td>2022</td>\n",
       "      <td>3</td>\n",
       "      <td>15</td>\n",
       "      <td>1</td>\n",
       "      <td>True</td>\n",
       "      <td>2022-03-20</td>\n",
       "      <td>2022-03-15</td>\n",
       "      <td>False</td>\n",
       "      <td>2022-04-15</td>\n",
       "      <td>2023-03-15</td>\n",
       "    </tr>\n",
       "    <tr>\n",
       "      <th>2</th>\n",
       "      <td>2020-06-30</td>\n",
       "      <td>08:10:20</td>\n",
       "      <td>2020-06-30 08:10:20</td>\n",
       "      <td>2020</td>\n",
       "      <td>6</td>\n",
       "      <td>30</td>\n",
       "      <td>1</td>\n",
       "      <td>True</td>\n",
       "      <td>2020-07-05</td>\n",
       "      <td>2020-06-30</td>\n",
       "      <td>True</td>\n",
       "      <td>2020-07-30</td>\n",
       "      <td>2021-06-30</td>\n",
       "    </tr>\n",
       "    <tr>\n",
       "      <th>3</th>\n",
       "      <td>2019-11-25</td>\n",
       "      <td>22:55:12</td>\n",
       "      <td>2019-11-25 22:55:12</td>\n",
       "      <td>2019</td>\n",
       "      <td>11</td>\n",
       "      <td>25</td>\n",
       "      <td>0</td>\n",
       "      <td>False</td>\n",
       "      <td>2019-11-30</td>\n",
       "      <td>2019-11-25</td>\n",
       "      <td>False</td>\n",
       "      <td>2019-12-25</td>\n",
       "      <td>2020-11-25</td>\n",
       "    </tr>\n",
       "    <tr>\n",
       "      <th>4</th>\n",
       "      <td>2021-09-01</td>\n",
       "      <td>06:12:45</td>\n",
       "      <td>2021-09-01 06:12:45</td>\n",
       "      <td>2021</td>\n",
       "      <td>9</td>\n",
       "      <td>1</td>\n",
       "      <td>2</td>\n",
       "      <td>True</td>\n",
       "      <td>2021-09-06</td>\n",
       "      <td>2021-09-01</td>\n",
       "      <td>False</td>\n",
       "      <td>2021-10-01</td>\n",
       "      <td>2022-09-01</td>\n",
       "    </tr>\n",
       "    <tr>\n",
       "      <th>5</th>\n",
       "      <td>2023-02-18</td>\n",
       "      <td>14:34:00</td>\n",
       "      <td>2023-02-18 14:34:00</td>\n",
       "      <td>2023</td>\n",
       "      <td>2</td>\n",
       "      <td>18</td>\n",
       "      <td>5</td>\n",
       "      <td>False</td>\n",
       "      <td>2023-02-23</td>\n",
       "      <td>2023-02-18</td>\n",
       "      <td>False</td>\n",
       "      <td>2023-03-18</td>\n",
       "      <td>2024-02-18</td>\n",
       "    </tr>\n",
       "    <tr>\n",
       "      <th>6</th>\n",
       "      <td>2020-08-12</td>\n",
       "      <td>03:21:50</td>\n",
       "      <td>2020-08-12 03:21:50</td>\n",
       "      <td>2020</td>\n",
       "      <td>8</td>\n",
       "      <td>12</td>\n",
       "      <td>2</td>\n",
       "      <td>True</td>\n",
       "      <td>2020-08-17</td>\n",
       "      <td>2020-08-12</td>\n",
       "      <td>True</td>\n",
       "      <td>2020-09-12</td>\n",
       "      <td>2021-08-12</td>\n",
       "    </tr>\n",
       "    <tr>\n",
       "      <th>7</th>\n",
       "      <td>2021-12-24</td>\n",
       "      <td>19:58:10</td>\n",
       "      <td>2021-12-24 19:58:10</td>\n",
       "      <td>2021</td>\n",
       "      <td>12</td>\n",
       "      <td>24</td>\n",
       "      <td>4</td>\n",
       "      <td>True</td>\n",
       "      <td>2021-12-29</td>\n",
       "      <td>2021-12-24</td>\n",
       "      <td>False</td>\n",
       "      <td>2022-01-24</td>\n",
       "      <td>2022-12-24</td>\n",
       "    </tr>\n",
       "  </tbody>\n",
       "</table>\n",
       "</div>"
      ],
      "text/plain": [
       "  date_column time_column     datetime_column  year  month  day  weekday  \\\n",
       "0  2021-01-01    12:30:45 2021-01-01 12:30:45  2021      1    1        4   \n",
       "1  2022-03-15    15:45:00 2022-03-15 15:45:00  2022      3   15        1   \n",
       "2  2020-06-30    08:10:20 2020-06-30 08:10:20  2020      6   30        1   \n",
       "3  2019-11-25    22:55:12 2019-11-25 22:55:12  2019     11   25        0   \n",
       "4  2021-09-01    06:12:45 2021-09-01 06:12:45  2021      9    1        2   \n",
       "5  2023-02-18    14:34:00 2023-02-18 14:34:00  2023      2   18        5   \n",
       "6  2020-08-12    03:21:50 2020-08-12 03:21:50  2020      8   12        2   \n",
       "7  2021-12-24    19:58:10 2021-12-24 19:58:10  2021     12   24        4   \n",
       "\n",
       "   is_between date_plus_5_days formatted_date  is_leap_year   new_date  \\\n",
       "0        True       2021-01-06     2021-01-01         False 2021-02-01   \n",
       "1        True       2022-03-20     2022-03-15         False 2022-04-15   \n",
       "2        True       2020-07-05     2020-06-30          True 2020-07-30   \n",
       "3       False       2019-11-30     2019-11-25         False 2019-12-25   \n",
       "4        True       2021-09-06     2021-09-01         False 2021-10-01   \n",
       "5       False       2023-02-23     2023-02-18         False 2023-03-18   \n",
       "6        True       2020-08-17     2020-08-12          True 2020-09-12   \n",
       "7        True       2021-12-29     2021-12-24         False 2022-01-24   \n",
       "\n",
       "  new_date_year  \n",
       "0    2022-01-01  \n",
       "1    2023-03-15  \n",
       "2    2021-06-30  \n",
       "3    2020-11-25  \n",
       "4    2022-09-01  \n",
       "5    2024-02-18  \n",
       "6    2021-08-12  \n",
       "7    2022-12-24  "
      ]
     },
     "execution_count": 105,
     "metadata": {},
     "output_type": "execute_result"
    }
   ],
   "source": [
    "df"
   ]
  },
  {
   "cell_type": "markdown",
   "id": "f28fbbb8-7699-4500-bf66-39fd2b97cdb2",
   "metadata": {},
   "source": [
    "<h1>now vs. utcnow</h1> \n",
    "datetime.now() gives the local current time.\n",
    "datetime.utcnow() gives the current time in UTC."
   ]
  },
  {
   "cell_type": "code",
   "execution_count": null,
   "id": "5e05e12f-37d6-44d5-97a3-55890fce70c1",
   "metadata": {},
   "outputs": [],
   "source": []
  }
 ],
 "metadata": {
  "kernelspec": {
   "display_name": "Python 3 (ipykernel)",
   "language": "python",
   "name": "python3"
  },
  "language_info": {
   "codemirror_mode": {
    "name": "ipython",
    "version": 3
   },
   "file_extension": ".py",
   "mimetype": "text/x-python",
   "name": "python",
   "nbconvert_exporter": "python",
   "pygments_lexer": "ipython3",
   "version": "3.12.3"
  }
 },
 "nbformat": 4,
 "nbformat_minor": 5
}
