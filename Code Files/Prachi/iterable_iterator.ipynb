{
 "cells": [
  {
   "cell_type": "markdown",
   "id": "ff0aa545-e2a4-4a7c-8171-bc569bd648ba",
   "metadata": {},
   "source": [
    "<h3>In Python, reduce(), map(), and filter() are higher-order functions that allow you to process and transform data in a functional programming style.</h3>"
   ]
  },
  {
   "cell_type": "markdown",
   "id": "4f457b2c-2169-41d0-9bbf-85741b09725c",
   "metadata": {},
   "source": [
    "<h2>1. Iterable</h2>\n",
    "An iterable is any Python object that can return its members one at a time. In other words, an iterable is any object that you can loop over using a for loop. Common examples include lists, tuples, strings, dictionaries, sets, and even custom objects that implement the iteration protocol.\n",
    "\n",
    "\n",
    "<h4>Definition:</h4> An object is considered iterable if it implements the __iter__() method, which returns an iterator.\n",
    "    \n",
    "Examples of Iterables:\n",
    "    \n",
    "Lists: my_list = [1, 2, 3]\n",
    "\n",
    "Tuples: my_tuple = (4, 5, 6)\n",
    "\n",
    "Strings: my_string = \"hello\"\n",
    "\n",
    "Dictionaries: my_dict = {\"a\": 1, \"b\": 2}\n",
    "\n",
    "Sets: my_set = {7, 8, 9}"
   ]
  },
  {
   "cell_type": "code",
   "execution_count": 7,
   "id": "5f593fab-4804-4d16-8324-bea9f04a964e",
   "metadata": {},
   "outputs": [
    {
     "name": "stdout",
     "output_type": "stream",
     "text": [
      "1\n",
      "2\n",
      "3\n"
     ]
    }
   ],
   "source": [
    "# List is an iterable\n",
    "my_list = [1, 2, 3]\n",
    "for item in my_list:\n",
    "    print(item)\n",
    "\n",
    "# Output:\n",
    "# 1\n",
    "# 2\n",
    "# 3\n"
   ]
  },
  {
   "cell_type": "markdown",
   "id": "11856051-b841-442f-b15f-1460d98a566e",
   "metadata": {},
   "source": [
    "<h2>2. Iterator</h2>\n",
    "An iterator is an object that represents a stream of data. It is the object that actually performs the iteration. You can obtain an iterator from an iterable by calling Python's built-in iter() function on it. An iterator keeps track of its current position during iteration and knows how to produce the next value.\n",
    "\n",
    "<h4>Definition:</h4> An object is considered an iterator if it implements two methods:\n",
    "\n",
    "__iter__(): Returns the iterator object itself.\n",
    "\n",
    "__next__(): Returns the next item in the sequence. When there are no more items, it raises a StopIteration exception."
   ]
  },
  {
   "cell_type": "code",
   "execution_count": 8,
   "id": "711e6453-9c29-49c8-b3f1-6296dca2cc3c",
   "metadata": {},
   "outputs": [
    {
     "name": "stdout",
     "output_type": "stream",
     "text": [
      "1\n",
      "2\n",
      "3\n"
     ]
    }
   ],
   "source": [
    "my_list = [1, 2, 3]\n",
    "iterator = iter(my_list)  # Obtain an iterator from the list\n",
    "\n",
    "# Manually get the next element using next()\n",
    "print(next(iterator))  # Output: 1\n",
    "print(next(iterator))  # Output: 2\n",
    "print(next(iterator))  # Output: 3\n",
    "\n",
    "# If you try next() again, it raises StopIteration\n",
    "# print(next(iterator))  # Raises StopIteration\n"
   ]
  },
  {
   "cell_type": "markdown",
   "id": "6cf61b7c-9642-4ea9-bf6f-ed27b2b7df6d",
   "metadata": {},
   "source": [
    "<img src =\"difference.png\">"
   ]
  },
  {
   "cell_type": "code",
   "execution_count": 10,
   "id": "4d36079b-121f-474e-8005-18abaa88da7b",
   "metadata": {},
   "outputs": [
    {
     "name": "stdout",
     "output_type": "stream",
     "text": [
      "10\n",
      "20\n",
      "30\n"
     ]
    }
   ],
   "source": [
    "# Example of an iterable (list)\n",
    "my_list = [10, 20, 30]\n",
    "\n",
    "# Get an iterator from the iterable\n",
    "iterator = iter(my_list)\n",
    "\n",
    "# The iterator can produce elements one by one\n",
    "print(next(iterator))  # Output: 10\n",
    "print(next(iterator))  # Output: 20\n",
    "print(next(iterator))  # Output: 30\n",
    "\n",
    "# Once all elements are exhausted, it raises StopIteration\n",
    "# print(next(iterator))  # Raises StopIteration\n"
   ]
  },
  {
   "cell_type": "markdown",
   "id": "0211a40b-26d6-481f-acab-b07125c60230",
   "metadata": {},
   "source": [
    "<h3>1. Every Iterable Can Be Turned Into an Iterator</h3>\n",
    "Yes, every iterable can be turned into an iterator using Python’s iter() function. An iterable is an object that can return an iterator, meaning it implements the __iter__() method. Examples of iterables include lists, tuples, strings, dictionaries, sets, and even custom classes that implement the __iter__() method.\n",
    "\n",
    "\n",
    "When you call iter() on an iterable, you get an iterator that allows you to retrieve its elements one at a time."
   ]
  },
  {
   "cell_type": "code",
   "execution_count": 11,
   "id": "089a9de9-8896-4e5b-a33e-734c6d524c57",
   "metadata": {},
   "outputs": [
    {
     "name": "stdout",
     "output_type": "stream",
     "text": [
      "1\n",
      "2\n",
      "3\n"
     ]
    }
   ],
   "source": [
    "my_list = [1, 2, 3]  # This is an iterable (a list)\n",
    "\n",
    "# Get an iterator from the iterable\n",
    "iterator = iter(my_list)\n",
    "\n",
    "# Now we can use next() to get each element from the iterator\n",
    "print(next(iterator))  # Output: 1\n",
    "print(next(iterator))  # Output: 2\n",
    "print(next(iterator))  # Output: 3\n"
   ]
  },
  {
   "cell_type": "markdown",
   "id": "72365152-ce81-4faa-9eba-57249b86e03f",
   "metadata": {},
   "source": [
    "<h3>2. Not Every Iterator Is Reusable as an Iterable</h3>\n",
    "An iterator is a special type of object that represents a stream of data. It implements both the __iter__() and __next__() methods. Every iterator is technically iterable, because it has an __iter__() method, but not every iterator can be \"reused\" like an iterable object (such as a list) once it is exhausted.\n",
    "\n",
    "\n",
    "\n",
    "This means:\n",
    "\n",
    "Iterators can be iterated over using a for loop or next(), just like other iterables.\n",
    "Once an iterator is exhausted (you've called next() on it enough times to retrieve all the values), it cannot be reused unless you explicitly create a new iterator."
   ]
  },
  {
   "cell_type": "code",
   "execution_count": null,
   "id": "52aff4b2-49db-4243-b954-e72361204ed9",
   "metadata": {},
   "outputs": [],
   "source": []
  },
  {
   "cell_type": "markdown",
   "id": "b40f5d4f-3fe2-4779-98f6-d303c012da6d",
   "metadata": {},
   "source": [
    "The map, filter, and reduce functions are part of Python's functional programming toolkit, allowing for operations on iterable collections like lists or tuples. They each have a specific purpose and are often combined with lambda functions to apply transformations, filtering, or reductions."
   ]
  },
  {
   "cell_type": "markdown",
   "id": "c33496e0",
   "metadata": {},
   "source": [
    "1. map()\n",
    "\n",
    "Purpose: Applies a function to every item in an iterable (e.g., list, tuple) and returns a map object (which can be converted to a list or other iterable).\n",
    "\n",
    "Use case: When you want to transform each item in a collection.\n"
   ]
  },
  {
   "cell_type": "markdown",
   "id": "48ced355",
   "metadata": {},
   "source": [
    "map(function, iterable)\n"
   ]
  },
  {
   "cell_type": "code",
   "execution_count": 1,
   "id": "db83dee5",
   "metadata": {},
   "outputs": [
    {
     "name": "stdout",
     "output_type": "stream",
     "text": [
      "[32.0, 50.0, 68.0, 86.0]\n"
     ]
    }
   ],
   "source": [
    "#Convert a list of temperatures in Celsius to Fahrenheit.\n",
    "celsius = [0, 10, 20, 30]\n",
    "fahrenheit = list(map(lambda x: (x * 9/5) + 32, celsius))\n",
    "print(fahrenheit)  # Output: [32.0, 50.0, 68.0, 86.0]\n"
   ]
  },
  {
   "cell_type": "markdown",
   "id": "8ec60507",
   "metadata": {},
   "source": [
    "2. filter()\n",
    "\n",
    "Purpose: Filters items in an iterable based on a condition (function) and returns only those that match the condition.\n",
    "\n",
    "Use case: When you need to remove items from a collection that don’t meet a specific criterion."
   ]
  },
  {
   "cell_type": "markdown",
   "id": "e0db22df",
   "metadata": {},
   "source": [
    "filter(function, iterable)\n"
   ]
  },
  {
   "cell_type": "code",
   "execution_count": 3,
   "id": "66093c76-6c7a-47df-bf38-4aeee4c9e18d",
   "metadata": {},
   "outputs": [
    {
     "name": "stdout",
     "output_type": "stream",
     "text": [
      "[1, 3, 5]\n"
     ]
    }
   ],
   "source": [
    "#Filter out even numbers from a list.\n",
    "\n",
    "numbers = [1, 2, 3, 4, 5, 6]\n",
    "odd_numbers = list(filter(lambda x: x % 2 != 0, numbers))\n",
    "print(odd_numbers)  # Output: [1, 3, 5]\n"
   ]
  },
  {
   "cell_type": "markdown",
   "id": "30156b92",
   "metadata": {},
   "source": [
    "3. reduce()\n",
    "\n",
    "Purpose: Reduces an iterable to a single value by applying a function cumulatively to the items in the iterable.\n",
    "\n",
    "Use case: When you want to perform an aggregation or cumulative operation, like summing a list or multiplying items together.\n",
    "\n",
    "Note: reduce() is not a built-in function; it is part of the functools module and needs to be imported."
   ]
  },
  {
   "cell_type": "markdown",
   "id": "15d7dd02",
   "metadata": {},
   "source": [
    "from functools import reduce\n",
    "\n",
    "reduce(function, iterable)|"
   ]
  },
  {
   "cell_type": "code",
   "execution_count": 4,
   "id": "8cc84ae4-a87c-48f0-9f74-5af90005211c",
   "metadata": {},
   "outputs": [
    {
     "name": "stdout",
     "output_type": "stream",
     "text": [
      "24\n"
     ]
    }
   ],
   "source": [
    "#Calculate the product of all numbers in a list.\n",
    "\n",
    "from functools import reduce\n",
    "numbers = [1, 2, 3, 4]\n",
    "product = reduce(lambda x, y: x * y, numbers)\n",
    "print(product)  # Output: 24\n"
   ]
  },
  {
   "cell_type": "markdown",
   "id": "0d220a31",
   "metadata": {},
   "source": [
    "Convert each price to euros by multiplying by 0.85 (use map).\n",
    "\n",
    "Filter out prices less than 10 euros (use filter).\n",
    "\n",
    "Get the total of the filtered prices (use reduce)."
   ]
  },
  {
   "cell_type": "code",
   "execution_count": 5,
   "id": "fa8d2a59-2d84-4def-b39a-2aefb06adeb5",
   "metadata": {},
   "outputs": [
    {
     "name": "stdout",
     "output_type": "stream",
     "text": [
      "Prices in Euros: [17.0, 42.5, 4.25, 12.75, 8.5, 25.5]\n",
      "Filtered Prices: [17.0, 42.5, 12.75, 25.5]\n",
      "Total: 97.75\n"
     ]
    }
   ],
   "source": [
    "from functools import reduce\n",
    "\n",
    "prices = [20, 50, 5, 15, 10, 30]\n",
    "\n",
    "# Step 1: Convert prices to euros\n",
    "prices_in_euros = list(map(lambda x: x * 0.85, prices))\n",
    "\n",
    "# Step 2: Filter prices greater than or equal to 10 euros\n",
    "filtered_prices = list(filter(lambda x: x >= 10, prices_in_euros))\n",
    "\n",
    "# Step 3: Calculate the total of the filtered prices\n",
    "total = reduce(lambda x, y: x + y, filtered_prices)\n",
    "\n",
    "print(\"Prices in Euros:\", prices_in_euros)\n",
    "print(\"Filtered Prices:\", filtered_prices)\n",
    "print(\"Total:\", total)\n",
    "\n",
    "\n"
   ]
  },
  {
   "cell_type": "code",
   "execution_count": 6,
   "id": "4106a0dc",
   "metadata": {},
   "outputs": [
    {
     "name": "stdout",
     "output_type": "stream",
     "text": [
      "['ALICE', 'BOB', 'CHARLIE']\n"
     ]
    }
   ],
   "source": [
    "#Scenario: You have a list of names and want to convert each name to uppercase.\n",
    "names = [\"alice\", \"bob\", \"charlie\"]\n",
    "uppercase_names = list(map(lambda name: name.upper(), names))\n",
    "print(uppercase_names)  # Output: ['ALICE', 'BOB', 'CHARLIE']\n"
   ]
  },
  {
   "cell_type": "code",
   "execution_count": 7,
   "id": "8d4f1c10",
   "metadata": {},
   "outputs": [
    {
     "name": "stdout",
     "output_type": "stream",
     "text": [
      "[80.0, 120.0, 160.0, 200.0]\n"
     ]
    }
   ],
   "source": [
    "#Scenario: You have a list of product prices and want to apply a 20% discount to each one.\n",
    "prices = [100, 150, 200, 250]\n",
    "discounted_prices = list(map(lambda price: price * 0.8, prices))\n",
    "print(discounted_prices)  # Output: [80.0, 120.0, 160.0, 200.0]\n"
   ]
  },
  {
   "cell_type": "code",
   "execution_count": 8,
   "id": "b4710258",
   "metadata": {},
   "outputs": [
    {
     "name": "stdout",
     "output_type": "stream",
     "text": [
      "[5, 6, 4]\n"
     ]
    }
   ],
   "source": [
    "#Scenario: Given a list of words, you want to create a new list that contains the length of each word.\n",
    "words = [\"apple\", \"banana\", \"kiwi\"]\n",
    "word_lengths = list(map(lambda word: len(word), words))\n",
    "print(word_lengths)  # Output: [5, 6, 4]\n"
   ]
  },
  {
   "cell_type": "code",
   "execution_count": 9,
   "id": "84e6c618",
   "metadata": {},
   "outputs": [
    {
     "name": "stdout",
     "output_type": "stream",
     "text": [
      "[50, 30, 80]\n"
     ]
    }
   ],
   "source": [
    "#Scenario: Given a list of product prices, filter out all products that are priced over $100.\n",
    "prices = [50, 120, 30, 200, 80]\n",
    "affordable_prices = list(filter(lambda price: price <= 100, prices))\n",
    "print(affordable_prices)  # Output: [50, 30, 80]\n"
   ]
  },
  {
   "cell_type": "code",
   "execution_count": 10,
   "id": "65f8adae",
   "metadata": {},
   "outputs": [
    {
     "name": "stdout",
     "output_type": "stream",
     "text": [
      "['hello', 'world', 'python']\n"
     ]
    }
   ],
   "source": [
    "#Scenario: You have a list of strings and want to remove any empty strings from the list.\n",
    "strings = [\"hello\", \"\", \"world\", \"\", \"python\"]\n",
    "non_empty_strings = list(filter(lambda s: s != \"\", strings))\n",
    "print(non_empty_strings)  # Output: ['hello', 'world', 'python']\n"
   ]
  },
  {
   "cell_type": "code",
   "execution_count": 11,
   "id": "1157d64a",
   "metadata": {},
   "outputs": [
    {
     "name": "stdout",
     "output_type": "stream",
     "text": [
      "[75, 80, 60, 90]\n"
     ]
    }
   ],
   "source": [
    "#Scenario: Given a list of students' scores, filter out those who scored below the passing grade (e.g., 50).\n",
    "scores = [75, 45, 80, 60, 30, 90]\n",
    "passing_scores = list(filter(lambda score: score >= 50, scores))\n",
    "print(passing_scores)  # Output: [75, 80, 60, 90]\n"
   ]
  },
  {
   "cell_type": "code",
   "execution_count": 12,
   "id": "aab8ad78",
   "metadata": {},
   "outputs": [
    {
     "name": "stdout",
     "output_type": "stream",
     "text": [
      "1700\n"
     ]
    }
   ],
   "source": [
    "#Scenario: You have a list of daily earnings and want to calculate the total earnings for the week.\n",
    "from functools import reduce\n",
    "\n",
    "daily_earnings = [200, 150, 300, 250, 100, 400, 300]\n",
    "total_earnings = reduce(lambda x, y: x + y, daily_earnings)\n",
    "print(total_earnings)  # Output: 1700\n",
    "\n"
   ]
  },
  {
   "cell_type": "code",
   "execution_count": 13,
   "id": "95146965",
   "metadata": {},
   "outputs": [
    {
     "name": "stdout",
     "output_type": "stream",
     "text": [
      "8\n"
     ]
    }
   ],
   "source": [
    "#Scenario: Given a list of numbers, use reduce to find the maximum number.\n",
    "\n",
    "from functools import reduce\n",
    "\n",
    "numbers = [3, 5, 2, 8, 7, 1]\n",
    "max_number = reduce(lambda x, y: x if x > y else y, numbers)\n",
    "print(max_number)  # Output: 8\n"
   ]
  },
  {
   "cell_type": "code",
   "execution_count": 14,
   "id": "cfcdf1aa",
   "metadata": {},
   "outputs": [
    {
     "name": "stdout",
     "output_type": "stream",
     "text": [
      "120\n"
     ]
    }
   ],
   "source": [
    "#Scenario: Calculate the factorial of 5 using reduce (5! = 5 × 4 × 3 × 2 × 1).\n",
    "from functools import reduce\n",
    "\n",
    "n = 5\n",
    "factorial = reduce(lambda x, y: x * y, range(1, n + 1))\n",
    "print(factorial)  # Output: 120\n"
   ]
  },
  {
   "cell_type": "code",
   "execution_count": null,
   "id": "119e1a24",
   "metadata": {},
   "outputs": [],
   "source": []
  }
 ],
 "metadata": {
  "kernelspec": {
   "display_name": "Python 3 (ipykernel)",
   "language": "python",
   "name": "python3"
  },
  "language_info": {
   "codemirror_mode": {
    "name": "ipython",
    "version": 3
   },
   "file_extension": ".py",
   "mimetype": "text/x-python",
   "name": "python",
   "nbconvert_exporter": "python",
   "pygments_lexer": "ipython3",
   "version": "3.11.7"
  }
 },
 "nbformat": 4,
 "nbformat_minor": 5
}
