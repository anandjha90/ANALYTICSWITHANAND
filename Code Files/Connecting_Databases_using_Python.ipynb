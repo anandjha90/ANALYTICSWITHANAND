{
  "cells": [
    {
      "cell_type": "markdown",
      "metadata": {
        "id": "aazeiDBiESOe"
      },
      "source": [
        "# Connecting to Database\n",
        "\n",
        "The Python standard for database interfaces is the **Python DB-API**.In most of the cases one have  download a separate DB API module for each database access.\n",
        "\n",
        "The DB API provides a minimal standard for working with databases using Python structures and syntax wherever possible. This API includes the following −\n",
        "\n",
        "- Importing the API module.\n",
        "- Acquiring a connection with the database.\n",
        "- Issuing SQL statements and stored procedures.\n",
        "- Closing the connection\n",
        "\n",
        "## 1. Database Connection: SQlite3\n",
        "\n",
        "![image.png](attachment:image.png)\n",
        "\n",
        "### What is SQLite?\n",
        "SQLite is a relational database management system (In C) ,that implements a small, fast, self-contained, high-reliability, full-featured, SQL database engine.\n",
        "\n",
        "- SQLite3 can be integrated with Python using sqlite3 module\n",
        "- No need to install as it shipped by default along with Python version 2.5.x onwards.\n",
        "- To use **sqlite3 module**, you must first create a connection object that represents the database and then optionally you can create a cursor object, which will help you in executing all the SQL statements.\n",
        "\n",
        "- conda install -c blaze sqlite3\n",
        "\n",
        "### Important APIs\n",
        "\n",
        "#### sqlite3.connect(database [,timeout ,other optional arguments])\n",
        "\n",
        "- This API opens a connection to the SQLite database file. You can use \":memory:\" to open a database connection to a database that resides in RAM instead of on disk. If database is opened successfully, it returns a connection object.\n",
        "\n",
        "#### connection.cursor([cursorClass])\n",
        "\n",
        "- This routine creates a cursor which will be used throughout of your database programming with Python. This method accepts a single optional parameter cursorClass.\n",
        "\n",
        "#### cursor.execute(sql [, optional parameters])\n",
        "\n",
        "- This routine executes an SQL statement. The SQL statement may be parameterized (i. e. placeholders instead of SQL literals). The sqlite3 module supports two kinds of placeholders: question marks and named placeholders (named style).\n",
        "\n",
        "  For example − cursor.execute(\"insert into name values (?, ?)\", (who, income))\n",
        "\n",
        "#### connection.commit()\n",
        "\n",
        "- This method commits the current transaction. If you don't call this method, anything you did since the last call to commit() is not visible from other database connections.\n",
        "\n",
        "#### connection.rollback()\n",
        "\n",
        "- This method rolls back any changes to the database since the last call to commit()."
      ]
    },
    {
      "cell_type": "code",
      "execution_count": null,
      "metadata": {
        "id": "a1GOgmjhESOg",
        "outputId": "5d6bc995-61e4-4f15-ccb9-a3e0e13801a8"
      },
      "outputs": [
        {
          "name": "stdout",
          "output_type": "stream",
          "text": [
            "My first Connection\n"
          ]
        }
      ],
      "source": [
        "# Program to Connect to the exixting database\n",
        "##If the database does not exist, then it will be created and finally a database object will be returned\n",
        "import sqlite3\n",
        "\n",
        "conn = sqlite3.connect('D1.db')\n",
        "\n",
        "print (\"My first Connection\")"
      ]
    },
    {
      "cell_type": "code",
      "execution_count": null,
      "metadata": {
        "id": "f788cuaJESOg",
        "outputId": "9c07cc1c-9f14-4408-b6a8-4662383fa955"
      },
      "outputs": [
        {
          "name": "stdout",
          "output_type": "stream",
          "text": [
            "Opened database successfully\n",
            "Table created......\n"
          ]
        }
      ],
      "source": [
        "# Program to create a table in the previously created database\n",
        "conn = sqlite3.connect('D1.db')\n",
        "print (\"Opened database successfully\")\n",
        "\n",
        "conn.execute('''CREATE TABLE COM\n",
        "         (ID INT PRIMARY KEY     NOT NULL,\n",
        "         NAME           TEXT    NOT NULL,\n",
        "         AGE            INT     NOT NULL,\n",
        "         ADDRESS        CHAR(50),\n",
        "         SALARY         REAL);''')\n",
        "print (\"Table created......\")\n",
        "\n",
        "conn.close()"
      ]
    },
    {
      "cell_type": "code",
      "execution_count": null,
      "metadata": {
        "id": "aaVqKBgbESOh",
        "outputId": "5e3202b1-5815-4d12-9867-e98fa9bbe349"
      },
      "outputs": [
        {
          "name": "stdout",
          "output_type": "stream",
          "text": [
            "Opened database successfully\n",
            "Records updated successfully\n"
          ]
        }
      ],
      "source": [
        "## to create records in the COMPANY table created in the above example.\n",
        "conn = sqlite3.connect('D1.db')\n",
        "print (\"Opened database successfully\");\n",
        "\n",
        "conn.execute(\"INSERT INTO COM (ID,NAME,AGE,ADDRESS,SALARY) \\\n",
        "      VALUES (7, 'Poy', 30, 'UP', 30000.00 )\")\n",
        "\n",
        "conn.execute(\"INSERT INTO COM (ID,NAME,AGE,ADDRESS,SALARY) \\\n",
        "      VALUES (8, 'Ram', 33, 'FARIDABAD', 18000.00 )\")\n",
        "\n",
        "conn.execute(\"INSERT INTO COM (ID,NAME,AGE,ADDRESS,SALARY) \\\n",
        "      VALUES (9, 'edd', 42, 'NEW DELHI', 22000.00 )\")\n",
        "\n",
        "conn.commit()\n",
        "print (\"Records updated successfully\");\n",
        "conn.close()"
      ]
    },
    {
      "cell_type": "code",
      "execution_count": null,
      "metadata": {
        "id": "x38631PzESOh",
        "outputId": "a0c4108c-bedf-4e14-d41f-5b15bed15c1b"
      },
      "outputs": [
        {
          "name": "stdout",
          "output_type": "stream",
          "text": [
            "Opened database successfully\n",
            "ID =  7\n",
            "NAME =  Poy\n",
            "ADDRESS =  UP\n",
            "SALARY =  30000.0 \n",
            "\n",
            "ID =  8\n",
            "NAME =  Ram\n",
            "ADDRESS =  FARIDABAD\n",
            "SALARY =  18000.0 \n",
            "\n",
            "ID =  9\n",
            "NAME =  edd\n",
            "ADDRESS =  NEW DELHI\n",
            "SALARY =  22000.0 \n",
            "\n",
            "Record fetched\n"
          ]
        }
      ],
      "source": [
        "## how to fetch and display records from the COMPANY table created\n",
        "conn = sqlite3.connect('D1.db')\n",
        "print (\"Opened database successfully\");\n",
        "\n",
        "cursor = conn.execute(\"SELECT id, name, address, salary from COM\")\n",
        "for row in cursor:\n",
        "   print (\"ID = \", row[0])\n",
        "   print (\"NAME = \", row[1])\n",
        "   print (\"ADDRESS = \", row[2])\n",
        "   print (\"SALARY = \", row[3], \"\\n\")\n",
        "\n",
        "print (\"Record fetched\");\n",
        "conn.close()"
      ]
    },
    {
      "cell_type": "code",
      "execution_count": null,
      "metadata": {
        "id": "GgDwNb1oESOi"
      },
      "outputs": [],
      "source": [
        "import pandas as pd\n",
        "import sqlite3\n",
        "conn = sqlite3.connect(\"D1.db\")\n",
        "SQL_Q = pd.read_sql_query(\n",
        "'''SELECT id, name, address, salary from COMPANY1''', conn)"
      ]
    },
    {
      "cell_type": "code",
      "execution_count": null,
      "metadata": {
        "id": "AuqgWhnPESOi",
        "outputId": "f3470e2f-4aff-4ed6-a297-fc619a45d2ae"
      },
      "outputs": [
        {
          "data": {
            "text/html": [
              "<div>\n",
              "<style scoped>\n",
              "    .dataframe tbody tr th:only-of-type {\n",
              "        vertical-align: middle;\n",
              "    }\n",
              "\n",
              "    .dataframe tbody tr th {\n",
              "        vertical-align: top;\n",
              "    }\n",
              "\n",
              "    .dataframe thead th {\n",
              "        text-align: right;\n",
              "    }\n",
              "</style>\n",
              "<table border=\"1\" class=\"dataframe\">\n",
              "  <thead>\n",
              "    <tr style=\"text-align: right;\">\n",
              "      <th></th>\n",
              "      <th>ID</th>\n",
              "      <th>NAME</th>\n",
              "      <th>ADDRESS</th>\n",
              "      <th>SALARY</th>\n",
              "    </tr>\n",
              "  </thead>\n",
              "  <tbody>\n",
              "    <tr>\n",
              "      <th>0</th>\n",
              "      <td>7</td>\n",
              "      <td>Poy</td>\n",
              "      <td>UP</td>\n",
              "      <td>30000.0</td>\n",
              "    </tr>\n",
              "    <tr>\n",
              "      <th>1</th>\n",
              "      <td>8</td>\n",
              "      <td>Ram</td>\n",
              "      <td>FARIDABAD</td>\n",
              "      <td>18000.0</td>\n",
              "    </tr>\n",
              "    <tr>\n",
              "      <th>2</th>\n",
              "      <td>9</td>\n",
              "      <td>edd</td>\n",
              "      <td>NEW DELHI</td>\n",
              "      <td>22000.0</td>\n",
              "    </tr>\n",
              "  </tbody>\n",
              "</table>\n",
              "</div>"
            ],
            "text/plain": [
              "   ID NAME    ADDRESS   SALARY\n",
              "0   7  Poy         UP  30000.0\n",
              "1   8  Ram  FARIDABAD  18000.0\n",
              "2   9  edd  NEW DELHI  22000.0"
            ]
          },
          "execution_count": 6,
          "metadata": {},
          "output_type": "execute_result"
        }
      ],
      "source": [
        "SQL_Q"
      ]
    },
    {
      "cell_type": "code",
      "execution_count": null,
      "metadata": {
        "id": "FvsPzscSESOi"
      },
      "outputs": [],
      "source": [
        "d = pd.DataFrame(SQL_Q, columns=['ID','NAME','ADDRESS','SALARY'])\n",
        "d"
      ]
    },
    {
      "cell_type": "code",
      "execution_count": null,
      "metadata": {
        "id": "Xi4fWM12ESOi"
      },
      "outputs": [],
      "source": [
        "## Update & Delete\n",
        "conn = sqlite3.connect('D1.db')\n",
        "print (\"Opened database successfully\");\n",
        "conn.execute(\"UPDATE COMPANY1 set SALARY = 25000.00 where ID = 1\")## Updation\n",
        "conn.execute(\"DELETE from COMPANY1 where ID = 2;\")# Delete\n",
        "conn.commit\n",
        "cursor = conn.execute(\"SELECT id, name, address, salary from COMPANY\")\n",
        "for row in cursor:\n",
        "   print (\"ID = \", row[0])\n",
        "   print (\"NAME = \", row[1])\n",
        "   print (\"ADDRESS = \", row[2])\n",
        "   print (\"SALARY = \", row[3], \"\\n\")\n",
        "\n",
        "print (\"Updated Record fetched\");\n",
        "conn.close()"
      ]
    },
    {
      "cell_type": "raw",
      "metadata": {
        "collapsed": true,
        "id": "4-3-XhTgESOi"
      },
      "source": [
        "import mysql.connector\n",
        "\n",
        "mydb = mysql.connector.connect(\n",
        "  host=\"localhost\",\n",
        "  user=\"yourusername\",\n",
        "  passwd=\"yourpassword\",\n",
        "  database=\"mydatabase\"\n",
        ")\n",
        "\n",
        "from mysql.connector import MySQLConnection, Error\n",
        "from python_mysql_dbconfig import read_db_config\n",
        "\n",
        "\n",
        "def query_with_fetchone():\n",
        "    try:\n",
        "        dbconfig = read_db_config()\n",
        "        conn = MySQLConnection(**dbconfig)\n",
        "        cursor = conn.cursor()\n",
        "        cursor.execute(\"SELECT * FROM books\")\n",
        "\n",
        "        row = cursor.fetchone()\n",
        "\n",
        "        while row is not None:\n",
        "            print(row)\n",
        "            row = cursor.fetchone()\n",
        "\n",
        "    except Error as e:\n",
        "        print(e)\n",
        "\n",
        "    finally:\n",
        "        cursor.close()\n",
        "        conn.close()\n",
        "\n",
        "\n",
        "if __name__ == '__main__':\n",
        "    query_with_fetchone()"
      ]
    },
    {
      "cell_type": "markdown",
      "metadata": {
        "id": "FkHgUaWSESOi"
      },
      "source": [
        "- First, we connected to the database by create a new  MySQLConnection object\n",
        "- Second, from the  MySQLConnection object, we instantiated a new  MySQLCursor object\n",
        "- Third, we executed a query that selects all rows from the books table.\n",
        "- Fourth, we called  fetchone() method to fetch the next row in the result set. In the  while loop block, we printed out the content of the row and move to the next row until all rows are fetched.\n",
        "- Fifth, we closed both cursor and connection objects by invoking the  close() method of the corresponding object."
      ]
    },
    {
      "cell_type": "raw",
      "metadata": {
        "collapsed": true,
        "id": "YqWVmxHQESOi"
      },
      "source": [
        "from mysql.connector import MySQLConnection, Error\n",
        "from python_mysql_dbconfig import read_db_config\n",
        "\n",
        "def insert_book(title, isbn):\n",
        "    query = \"INSERT INTO books(title,isbn) \" \\\n",
        "            \"VALUES(%s,%s)\"\n",
        "    args = (title, isbn)\n",
        "\n",
        "    try:\n",
        "        db_config = read_db_config()\n",
        "        conn = MySQLConnection(**db_config)\n",
        "\n",
        "        cursor = conn.cursor()\n",
        "        cursor.execute(query, args)\n",
        "\n",
        "        if cursor.lastrowid:\n",
        "            print('last insert id', cursor.lastrowid)\n",
        "        else:\n",
        "            print('last insert id not found')\n",
        "\n",
        "        conn.commit()\n",
        "    except Error as error:\n",
        "        print(error)\n",
        "\n",
        "    finally:\n",
        "        cursor.close()\n",
        "        conn.close()\n",
        "\n",
        "def main():\n",
        "   insert_book('A Sudden Light','9781439187036')\n",
        "\n",
        "if __name__ == '__main__':\n",
        "    main()"
      ]
    },
    {
      "cell_type": "raw",
      "metadata": {
        "id": "aJLPyZdiESOj"
      },
      "source": [
        "from mysql.connector import MySQLConnection, Error\n",
        "from python_mysql_dbconfig import read_db_config\n",
        "\n",
        "def insert_books(books):\n",
        "    query = \"INSERT INTO books(title,isbn) \" \\\n",
        "            \"VALUES(%s,%s)\"\n",
        "\n",
        "    try:\n",
        "        db_config = read_db_config()\n",
        "        conn = MySQLConnection(**db_config)\n",
        "\n",
        "        cursor = conn.cursor()\n",
        "        cursor.executemany(query, books)\n",
        "\n",
        "        conn.commit()\n",
        "    except Error as e:\n",
        "        print('Error:', e)\n",
        "\n",
        "    finally:\n",
        "        cursor.close()\n",
        "        conn.close()\n",
        "\n",
        "def main():\n",
        "    books = [('Harry Potter And The Order Of The Phoenix', '9780439358071'),\n",
        "             ('Gone with the Wind', '9780446675536'),\n",
        "             ('Pride and Prejudice (Modern Library Classics)', '9780679783268')]\n",
        "    insert_books(books)\n",
        "\n",
        "if __name__ == '__main__':\n",
        "    main()"
      ]
    },
    {
      "cell_type": "markdown",
      "metadata": {
        "id": "MHvmpV0nESOj"
      },
      "source": [
        "##DELIMITER $$\n",
        "\n",
        "##USE python_mysql$$\n",
        "\n",
        "CREATE PROCEDURE find_all()\n",
        "BEGIN\n",
        " SELECT title, isbn, CONCAT(first_name,' ',last_name) AS author\n",
        " FROM books\n",
        " INNER JOIN book_author ON book_author.book_id =  books.id\n",
        " INNER JOIN AUTHORS ON book_author.author_id = authors.id;\n",
        "END$$\n",
        "\n",
        "DELIMITER ;"
      ]
    },
    {
      "cell_type": "raw",
      "metadata": {
        "collapsed": true,
        "id": "7cSulAJFESOj"
      },
      "source": [
        "## Deletion\n",
        "from mysql.connector import MySQLConnection, Error\n",
        "from python_mysql_dbconfig import read_db_config\n",
        "\n",
        "def delete_book(book_id):\n",
        "    db_config = read_db_config()\n",
        "\n",
        "    query = \"DELETE FROM books WHERE id = %s\"\n",
        "\n",
        "    try:\n",
        "        # connect to the database server\n",
        "        conn = MySQLConnection(**db_config)\n",
        "\n",
        "        # execute the query\n",
        "        cursor = conn.cursor()\n",
        "        cursor.execute(query, (book_id,))\n",
        "\n",
        "        # accept the change\n",
        "        conn.commit()\n",
        "\n",
        "    except Error as error:\n",
        "        print(error)\n",
        "\n",
        "    finally:\n",
        "        cursor.close()\n",
        "        conn.close()\n",
        "\n",
        "if __name__ == '__main__':\n",
        "    delete_book(102)"
      ]
    },
    {
      "cell_type": "markdown",
      "metadata": {
        "id": "fXTWKNnSESOj"
      },
      "source": [
        "## 2. Database Connection : MongoDB\n",
        "\n",
        "MongoDB is a cross-platform document-oriented database program. Classified as a NoSQL database program, MongoDB uses JSON-like documents with schemata. (Key : Value)\n",
        "\n",
        "### Why MongoDB?\n",
        "\n",
        "- The ever-increasing need for the ability to store complex data structures led to the birth of NoSQL databases, which allow a developer to store heterogeneous and structure-less data.\n",
        "- MongoDB also provides load balancing support by automatically moving data across the various shards\n",
        "- It has automatic failover support - in case your primary server goes down, a new primary will be up and running automatically\n",
        "- The MongoDB Management Service or MMS is a very nice web tool that provides you with the ability to track your machines\n",
        "- Deployment of MongoDB is very easy\n",
        "\n",
        "\n",
        "**To install this package with conda run**\n",
        "\n",
        "conda install -c anaconda pymongo\n",
        "\n",
        "**link to install MongoDB in windows**\n",
        "\n",
        "https://medium.com/@LondonAppBrewery/how-to-download-install-mongodb-on-windows-4ee4b3493514"
      ]
    },
    {
      "cell_type": "code",
      "execution_count": null,
      "metadata": {
        "id": "XhdSclECESOj"
      },
      "outputs": [],
      "source": []
    },
    {
      "cell_type": "code",
      "execution_count": null,
      "metadata": {
        "id": "bfB2uzkRESOj"
      },
      "outputs": [],
      "source": []
    },
    {
      "cell_type": "code",
      "execution_count": null,
      "metadata": {
        "id": "zdJSSILMESOj"
      },
      "outputs": [],
      "source": [
        "import pymongo"
      ]
    },
    {
      "cell_type": "code",
      "execution_count": null,
      "metadata": {
        "id": "o14DgqKgESOj"
      },
      "outputs": [],
      "source": [
        "from pymongo import MongoClient\n"
      ]
    },
    {
      "cell_type": "code",
      "execution_count": null,
      "metadata": {
        "id": "2dWTyYwDESOj"
      },
      "outputs": [],
      "source": [
        "# Creating Connection\n",
        "from pymongo import MongoClient\n",
        "client = MongoClient()\n"
      ]
    },
    {
      "cell_type": "code",
      "execution_count": null,
      "metadata": {
        "id": "qYqbmLb1ESOj"
      },
      "outputs": [],
      "source": [
        "# connect the MongoClient on the localhost which runs on port number 27017\n",
        "# client = MongoClient(‘host’, port_number)\n",
        "client = MongoClient(\"localhost\", 27017)\n"
      ]
    },
    {
      "cell_type": "code",
      "execution_count": null,
      "metadata": {
        "id": "lAmSePwzESOj"
      },
      "outputs": [],
      "source": [
        "# Access DataBase Objects\n",
        "mydatabase = client[\"MongoDB\"]\n"
      ]
    },
    {
      "cell_type": "code",
      "execution_count": null,
      "metadata": {
        "id": "B_5RTDewESOj"
      },
      "outputs": [],
      "source": [
        "## Accessing the Collection : Collections are equivalent to Tables in RDBMS.\n",
        "## We access a collection in PyMongo in the same way as we access the Tables in the RDBMS.\n",
        "mongodata = mydatabase[\"mongoTable\"]"
      ]
    },
    {
      "cell_type": "markdown",
      "metadata": {
        "id": "_9vuSdzAESOj"
      },
      "source": [
        "### Note : MongoDB store data in following form\n",
        "\n",
        "record = {\n",
        "\n",
        "title: 'MongoDB and Python',\n",
        "\n",
        "description: 'MongoDB is no SQL database',\n",
        "\n",
        "tags: ['mongodb', 'database', 'NoSQL'],\n",
        "\n",
        "viewers: 104\n",
        "}"
      ]
    },
    {
      "cell_type": "code",
      "execution_count": null,
      "metadata": {
        "id": "7nExz_JQESOj"
      },
      "outputs": [],
      "source": [
        "## Insert the data inside a collection :\n",
        "#Methods used:insert_one() or insert_many()\n",
        "rec={\n",
        "\"title\": 'MongoDB and Python',\n",
        "\"description\": 'MongoDB is no SQL database',\n",
        "\"tags\": ['mongodb', 'database', 'NoSQL'],\n",
        "\"viewers\": 104\n",
        "}\n",
        "rec = mongodata.insert_one(rec)\n"
      ]
    },
    {
      "cell_type": "code",
      "execution_count": null,
      "metadata": {
        "id": "Z1pUsiy6ESOk"
      },
      "outputs": [],
      "source": [
        "# find() is used to get more than one single document as a result of query.\n",
        "for i in mydatabase.mongoTable.find({\"title\": 'MongoDB and Python'}) :\n",
        "\tprint(i)\n"
      ]
    },
    {
      "cell_type": "code",
      "execution_count": null,
      "metadata": {
        "id": "cOI67pQ1ESOk"
      },
      "outputs": [],
      "source": [
        "# count() is used to get the numbers of documents with the name as passed int he parameters.\n",
        "print(mydatabase.mongoTable.count({\"title\": 'MongoDB and Python'}))\n"
      ]
    },
    {
      "cell_type": "code",
      "execution_count": null,
      "metadata": {
        "id": "JO794vVrESOk"
      },
      "outputs": [],
      "source": [
        "# To print all the documents/entries inside ‘mongoTable’ of database ‘mydatabase’\n",
        "\n",
        "try:\n",
        "\tconn = MongoClient()\n",
        "\tprint(\"Connected successfully!!!\")\n",
        "except:\n",
        "\tprint(\"Could not connect to MongoDB\")\n",
        "\n",
        "# database name: mydatabase\n",
        "db = conn.mydatabase\n",
        "\n",
        "# Created or Switched to collection names: myTable\n",
        "collection = db.mongoTable\n",
        "\n",
        "# To find() all the entries inside collection name 'myTable'\n",
        "cursor = collection.find()\n",
        "for record in cursor:\n",
        "\tprint(record)\n"
      ]
    },
    {
      "cell_type": "code",
      "execution_count": null,
      "metadata": {
        "id": "u9hl4tSuESOk"
      },
      "outputs": [],
      "source": [
        "# Python code to illustrate\n",
        "# Insert in MongoDB\n",
        "from pymongo import MongoClient\n",
        "\n",
        "try:\n",
        "\tconn = MongoClient()\n",
        "\tprint(\"Connected successfully!!!\")\n",
        "except:\n",
        "\tprint(\"Could not connect to MongoDB\")\n",
        "\n",
        "# database\n",
        "db = conn.database\n",
        "\n",
        "# Created or Switched to collection names: my_gfg_collection\n",
        "collection = db.my_gfg_collection\n",
        "\n",
        "emp_rec1 = {\n",
        "\t\t\"name\":\"Naval\",\n",
        "\t\t\"id\":104,\n",
        "\t\t\"location\":\"Delhi\"\n",
        "\t\t}\n",
        "emp_rec2 = {\n",
        "\t\t\"name\":\"Shruti\",\n",
        "\t\t\"id\":105,\n",
        "\t\t\"location\":\"Gurugoan\"\n",
        "\t\t}\n",
        "emp_rec3 = {\n",
        "\t\t\"name\":\"Pogo\",\n",
        "\t\t\"id\":106,\n",
        "\t\t\"location\":\"Noida\"\n",
        "\t\t}\n",
        "\n",
        "# Insert Data\n",
        "rec_id1 = collection.insert_one(emp_rec1)\n",
        "rec_id2 = collection.insert_one(emp_rec2)\n",
        "rec_id3 = collection.insert_one(emp_rec3)\n",
        "print(\"Data inserted with record ids\",rec_id1,\" \",rec_id2,rec_id3)\n",
        "\n",
        "# Printing the data inserted\n",
        "cursor = collection.find()\n",
        "for record in cursor:\n",
        "\tprint(record)\n"
      ]
    },
    {
      "cell_type": "code",
      "execution_count": null,
      "metadata": {
        "id": "oss_lDGxESOk"
      },
      "outputs": [],
      "source": [
        "# Python code to illustrate\n",
        "# Replace_one() in MongoDB\n",
        "from pymongo import MongoClient\n",
        "\n",
        "try:\n",
        "\tconn = MongoClient()\n",
        "\tprint(\"Connected successfully!!!\")\n",
        "except:\n",
        "\tprint(\"Could not connect to MongoDB\")\n",
        "\n",
        "# database\n",
        "db = conn.database\n",
        "\n",
        "# Created or Switched to collection names: my_gfg_collection\n",
        "collection = db.my_gfg_collection\n",
        "\n",
        "# replace one of the employee data whose name is Mr.Shaurya\n",
        "result = collection.replace_one(\n",
        "\t\t{\"name\":\"Mr.Shaurya\"},\n",
        "\t\t{\n",
        "\t\t\t\t\"name\":\"Roy\",\n",
        "\t\t\t\t\"id\":108,\n",
        "\t\t\t\t\"location\":\"Noida\"\n",
        "\n",
        "\t\t\t\t}\n",
        "\t\t)\n",
        "\n",
        "print(\"Data replaced with id\",result)\n",
        "\n",
        "# Print the new record\n",
        "cursor = collection.find()\n",
        "for record in cursor:\n",
        "\tprint(record)\n"
      ]
    }
  ],
  "metadata": {
    "kernelspec": {
      "display_name": "Python 3",
      "language": "python",
      "name": "python3"
    },
    "language_info": {
      "codemirror_mode": {
        "name": "ipython",
        "version": 3
      },
      "file_extension": ".py",
      "mimetype": "text/x-python",
      "name": "python",
      "nbconvert_exporter": "python",
      "pygments_lexer": "ipython3",
      "version": "3.8.5"
    },
    "colab": {
      "provenance": []
    }
  },
  "nbformat": 4,
  "nbformat_minor": 0
}